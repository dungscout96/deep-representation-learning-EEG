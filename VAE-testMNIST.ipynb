{
 "cells": [
  {
   "cell_type": "code",
   "execution_count": 1,
   "id": "NB7Va37UmkNm",
   "metadata": {
    "colab": {
     "base_uri": "https://localhost:8080/"
    },
    "id": "NB7Va37UmkNm",
    "outputId": "981870e9-0caa-4f64-a183-eb15a6b020c8"
   },
   "outputs": [
    {
     "name": "stdout",
     "output_type": "stream",
     "text": [
      "Looking in indexes: https://pypi.org/simple, https://us-python.pkg.dev/colab-wheels/public/simple/\n",
      "Requirement already satisfied: webdataset==0.1.62 in /usr/local/lib/python3.7/dist-packages (0.1.62)\n",
      "Requirement already satisfied: numpy in /usr/local/lib/python3.7/dist-packages (from webdataset==0.1.62) (1.21.6)\n",
      "Requirement already satisfied: braceexpand in /usr/local/lib/python3.7/dist-packages (from webdataset==0.1.62) (0.1.7)\n",
      "Looking in indexes: https://pypi.org/simple, https://us-python.pkg.dev/colab-wheels/public/simple/\n",
      "Requirement already satisfied: pytorch-model-summary in /usr/local/lib/python3.7/dist-packages (0.1.2)\n",
      "Requirement already satisfied: tqdm in /usr/local/lib/python3.7/dist-packages (from pytorch-model-summary) (4.64.0)\n",
      "Requirement already satisfied: numpy in /usr/local/lib/python3.7/dist-packages (from pytorch-model-summary) (1.21.6)\n",
      "Requirement already satisfied: torch in /usr/local/lib/python3.7/dist-packages (from pytorch-model-summary) (1.12.0+cu113)\n",
      "Requirement already satisfied: typing-extensions in /usr/local/lib/python3.7/dist-packages (from torch->pytorch-model-summary) (4.1.1)\n"
     ]
    }
   ],
   "source": [
    "!pip install Pillow --quiet\n",
    "!pip install webdataset==0.1.62\n",
    "!pip install pytorch-model-summary"
   ]
  },
  {
   "cell_type": "code",
   "execution_count": 5,
   "id": "mathematical-beginning",
   "metadata": {
    "id": "mathematical-beginning"
   },
   "outputs": [],
   "source": [
    "from utils import *\n",
    "import torch\n",
    "import webdataset as wds\n",
    "from itertools import islice\n",
    "import struct, ast\n",
    "from importlib_metadata import version\n",
    "from pytorch_model_summary import summary"
   ]
  },
  {
   "cell_type": "code",
   "execution_count": 3,
   "id": "fMC2c7mLGIIQ",
   "metadata": {
    "colab": {
     "base_uri": "https://localhost:8080/",
     "height": 36
    },
    "id": "fMC2c7mLGIIQ",
    "outputId": "49a4c6a0-d373-4f9a-cc5e-be881623d4b3"
   },
   "outputs": [
    {
     "data": {
      "application/vnd.google.colaboratory.intrinsic+json": {
       "type": "string"
      },
      "text/plain": [
       "'0.1.62'"
      ]
     },
     "execution_count": 3,
     "metadata": {},
     "output_type": "execute_result"
    }
   ],
   "source": [
    "version('webdataset')"
   ]
  },
  {
   "cell_type": "code",
   "execution_count": 27,
   "id": "framed-living",
   "metadata": {
    "colab": {
     "base_uri": "https://localhost:8080/"
    },
    "id": "framed-living",
    "outputId": "027ded48-fd78-4428-8154-722502a89370"
   },
   "outputs": [
    {
     "name": "stdout",
     "output_type": "stream",
     "text": [
      "using device: cpu\n"
     ]
    }
   ],
   "source": [
    "class Logger():\n",
    "    def __init__(self, mode='log'):\n",
    "        self.mode = mode\n",
    "        \n",
    "    def set_model_save_location(self, model_dir):\n",
    "        self.model_dir = f\"saved-model/{model_dir}\"\n",
    "        \n",
    "    def set_experiment(self, experiment_name):\n",
    "        self.experiment_name = experiment_name\n",
    "        log_format = '%(asctime)s %(message)s'\n",
    "        logging.basicConfig(stream=sys.stdout, level=logging.INFO,\n",
    "                            format=log_format, datefmt='%m/%d %I:%M:%S %p')\n",
    "        fh = logging.FileHandler(os.path.join('training-logs', f'log-{experiment_name}-{datetime.datetime.today()}.txt'))\n",
    "        fh.setFormatter(logging.Formatter(log_format))\n",
    "        logging.getLogger().addHandler(fh)\n",
    "        self.writer = SummaryWriter(f\"runs/{experiment_name}\")\n",
    "            \n",
    "    def log(self, message=\"\"):\n",
    "        if self.mode == 'log':\n",
    "            logging.info(message)\n",
    "        elif self.mode == 'debug':\n",
    "            print(message)\n",
    "\n",
    "    def save_model(self, model, info):\n",
    "        torch.save(model.state_dict(), f\"{self.model_dir}/model-{self.experiment_name}-{info}\")\n",
    "        \n",
    "USE_GPU = True\n",
    "\n",
    "dtype = torch.float32 # we will be using float throughout this tutorial\n",
    "\n",
    "if USE_GPU and torch.cuda.is_available():\n",
    "    device = torch.device('cuda')\n",
    "else:\n",
    "    device = torch.device('cpu')\n",
    "\n",
    "# Constant to control how frequently we print train loss\n",
    "print_every = 100\n",
    "\n",
    "print('using device:', device)\n",
    "\n",
    "def add_chan_dim(x):\n",
    "    x = torch.tensor(x)\n",
    "#     x = torch.transpose(x, 0, 1)\n",
    "    return torch.unsqueeze(x,0)\n",
    "\n",
    "\n",
    "def selectLabel(x,lbl):\n",
    "    # # function to select desired label\n",
    "    lbl_idx = [\"id\",\"sex\",\"age\",\"handedness\",\"index\"].index(lbl.lower())\n",
    "    x = x.decode(\"utf-8\").split(\",\")\n",
    "    # return x if lbl_idx == 0 else float(x)\n",
    "    return 1\n",
    "    \n",
    "s3_url = 'https://childmind.s3.us-west-1.amazonaws.com/python/childmind_train.tar' # replace 'train' with 'val' and 'test' accordingly\n",
    "train_data = wds.WebDataset(s3_url).decode().map_dict(npy=add_chan_dim, cls=lambda x: selectLabel(x,'sex')).to_tuple(\"npy\",\"cls\")\n",
    "\n",
    "s3_url = 'https://childmind.s3.us-west-1.amazonaws.com/python/childmind_val.tar' # replace 'train' with 'val' and 'test' accordingly\n",
    "val_data = wds.WebDataset(s3_url).decode().map_dict(npy=add_chan_dim, cls=lambda x: selectLabel(x,'sex')).to_tuple(\"npy\",\"cls\")"
   ]
  },
  {
   "cell_type": "code",
   "execution_count": 58,
   "id": "45d9b9f4",
   "metadata": {},
   "outputs": [],
   "source": [
    "# use mnist to test\n",
    "mnist_train = torchvision.datasets.MNIST('./mnist', download=True, transform = transforms.ToTensor())\n",
    "mnist_test = torchvision.datasets.MNIST('./mnist', train=False, download=True, transform = torchvision.transforms.ToTensor())"
   ]
  },
  {
   "cell_type": "code",
   "execution_count": 70,
   "id": "ignored-eagle",
   "metadata": {
    "id": "ignored-eagle"
   },
   "outputs": [],
   "source": [
    "class VAE(nn.Module): \n",
    "    \n",
    "    def __init__(self, latent_dim):\n",
    "        # latent_dim: dimension of the latent representation vector\n",
    "        super().__init__()\n",
    "        self.latent_dim = latent_dim\n",
    "        \n",
    "        encoder_l = [self.encoder_conv_block(True)]\n",
    "        for i in range(1):\n",
    "            encoder_l.append(self.encoder_conv_block())\n",
    "#         encoder_l.append(self.encoder_conv_block(False, 32, 32, 3, 1, 0))\n",
    "        encoder_l.append(nn.Flatten())\n",
    "        self.encoder_before_last = nn.ModuleList(encoder_l)\n",
    "        #self.encoder_mu = self.encoder_linear_block(960,latent_dim)\n",
    "        #self.encoder_sigma = self.encoder_linear_block(960, latent_dim)\n",
    "        self.encoder_mu = self.encoder_linear_block(392,latent_dim)\n",
    "        self.encoder_sigma = self.encoder_linear_block(392, latent_dim)\n",
    "        \n",
    "#        decoder_l = [self.decoder_linear_block(latent_dim, 960)]\n",
    "        decoder_l = [self.decoder_linear_block(latent_dim, 392)]\n",
    "#         decoder_l.append(self.decoder_conv_block(False, 32, 32, 3, 1, 0))\n",
    "        for i in range(1):\n",
    "            decoder_l.append(self.decoder_conv_block())\n",
    "        decoder_l.append(self.decoder_conv_block(True))\n",
    "        self.decoder = nn.ModuleList(decoder_l)\n",
    "    \n",
    "    def encoder_conv_block(self, is_start=False, in_channels=8, out_channels=8, kernel_size=6, stride=2, padding=2):\n",
    "        if is_start:\n",
    "            return nn.Sequential(\n",
    "                nn.Conv2d(1, out_channels, kernel_size, stride, padding),\n",
    "                nn.ReLU()\n",
    "            )\n",
    "        else:\n",
    "            return nn.Sequential(\n",
    "                nn.Conv2d(in_channels, out_channels, kernel_size, stride, padding),\n",
    "                nn.ReLU()\n",
    "            )\n",
    "    def encoder_linear_block(self, in_chan, out_chan):\n",
    "        return nn.Sequential(\n",
    "            nn.Linear(in_chan, out_chan),\n",
    "            nn.ReLU()\n",
    "        )\n",
    "    \n",
    "    def decoder_conv_block(self, is_last=False, in_channels=8, out_channels=8, kernel_size=6, stride=2, padding=2):\n",
    "        if is_last:\n",
    "            return nn.Sequential(\n",
    "                nn.ConvTranspose2d(in_channels, 1, kernel_size, stride, padding),\n",
    "                nn.ReLU()\n",
    "            )\n",
    "        else:\n",
    "            return nn.Sequential(\n",
    "                nn.ConvTranspose2d(in_channels, out_channels, kernel_size, stride, padding),\n",
    "                nn.ReLU()\n",
    "            )\n",
    "    \n",
    "    def decoder_linear_block(self, in_chan, out_chan):\n",
    "        return nn.Sequential(\n",
    "            nn.Linear(in_chan, out_chan),\n",
    "            nn.ReLU()\n",
    "        )\n",
    "    \n",
    "    def forward(self, x):\n",
    "        for f in self.encoder_before_last:\n",
    "            x = f(x)\n",
    "\n",
    "        mu = self.encoder_mu(x)\n",
    "        sigma = self.encoder_sigma(x)\n",
    "        z = self.sample_z(mu, sigma)\n",
    "        \n",
    "        x = self.decoder[0](z) # pass through the linear layer\n",
    "#         x = x.view(-1, 32, 1, 30) # reshape the tensor to be expected dimension for ConvTranspose\n",
    "        x = x.view(-1, 8, 7, 7) # reshape the tensor to be expected dimension for ConvTranspose\n",
    "        for i in range(1,len(self.decoder)):\n",
    "            f = self.decoder[i]\n",
    "            x = f(x) \n",
    "            \n",
    "        return mu, sigma, x\n",
    "    \n",
    "    def sample_z(self, mu, sigma):\n",
    "        # Input\n",
    "        #     mu:     [batch_size, self.latent_size] the predicted mu value for each sample in the batch\n",
    "        #     sigma:  [batch_size, self.latent_size] the predicted diag elem of sigma value for each sample in the batch\n",
    "        # Output\n",
    "        #     z: [batch_size, self.latent_size] the latent representation of each sample in the batch\n",
    "        # Reference: https://agustinus.kristia.de/techblog/2016/12/10/variational-autoencoder/\n",
    "        \n",
    "        # eps ~ N(0,1)        \n",
    "        batch_size = mu.size()[0]\n",
    "        eps = torch.randn((batch_size,1), device=device, dtype=dtype)\n",
    "        z = mu + sigma/2*eps\n",
    "        \n",
    "        return z\n",
    "        "
   ]
  },
  {
   "cell_type": "code",
   "execution_count": 73,
   "id": "c39cb173",
   "metadata": {
    "colab": {
     "base_uri": "https://localhost:8080/",
     "height": 364
    },
    "id": "c39cb173",
    "outputId": "9c32b6ba-8661-4105-d337-7ed86919c4d8",
    "scrolled": false
   },
   "outputs": [
    {
     "name": "stdout",
     "output_type": "stream",
     "text": [
      "torch.Size([1, 28, 28])\n",
      "--------------------------------------------------------------------------\n",
      "         Layer (type)        Output Shape         Param #     Tr. Param #\n",
      "==========================================================================\n",
      "             Conv2d-1      [1, 8, 14, 14]             296             296\n",
      "               ReLU-2      [1, 8, 14, 14]               0               0\n",
      "             Conv2d-3        [1, 8, 7, 7]           2,312           2,312\n",
      "               ReLU-4        [1, 8, 7, 7]               0               0\n",
      "            Flatten-5            [1, 392]               0               0\n",
      "             Linear-6             [1, 10]           3,930           3,930\n",
      "               ReLU-7             [1, 10]               0               0\n",
      "             Linear-8             [1, 10]           3,930           3,930\n",
      "               ReLU-9             [1, 10]               0               0\n",
      "            Linear-10            [1, 392]           4,312           4,312\n",
      "              ReLU-11            [1, 392]               0               0\n",
      "   ConvTranspose2d-12      [1, 8, 14, 14]           2,312           2,312\n",
      "              ReLU-13      [1, 8, 14, 14]               0               0\n",
      "   ConvTranspose2d-14      [1, 1, 28, 28]             289             289\n",
      "              ReLU-15      [1, 1, 28, 28]               0               0\n",
      "==========================================================================\n",
      "Total params: 17,381\n",
      "Trainable params: 17,381\n",
      "Non-trainable params: 0\n",
      "--------------------------------------------------------------------------\n"
     ]
    }
   ],
   "source": [
    "vae = VAE(10)\n",
    "sample = mnist_train[0][0]\n",
    "print(sample.shape)\n",
    "print(summary(vae, torch.unsqueeze(sample,0), show_input=False))"
   ]
  },
  {
   "cell_type": "markdown",
   "id": "9d6724f9",
   "metadata": {
    "id": "9d6724f9"
   },
   "source": [
    "KL divergence loss\n",
    "![kl_loss](https://github.com/dungscout96/deep-representation-learning-EEG/blob/master/images/kl_loss.png?raw=1)"
   ]
  },
  {
   "cell_type": "code",
   "execution_count": 128,
   "id": "48aa32b1",
   "metadata": {
    "id": "48aa32b1"
   },
   "outputs": [],
   "source": [
    "def beta_vae_loss(mu_hat, sigma_hat, x_hat, x_target):\n",
    "    likelihood_loss = F.mse_loss(x_hat, x_target)\n",
    "    kl_loss = torch.mean(0.5 * torch.sum(torch.exp(sigma_hat) + mu_hat ** 2 - 1 - sigma_hat, dim=1), dim=0)\n",
    "#     torch.mean(-0.5 * torch.sum(1 + log_var - mu ** 2 - log_var.exp(), dim = 1), dim = 0)\n",
    "    return likelihood_loss + 1*kl_loss # average the loss of batch\n",
    "\n",
    "def train(model, loader_train, optimizer, loader_val, epochs, logger, device, dtype):\n",
    "    \"\"\" \n",
    "    Inputs:\n",
    "    - model: A PyTorch Module giving the model to train.\n",
    "    - optimizer: An Optimizer object we will use to train the model\n",
    "    - epochs: (Optional) A Python integer giving the number of epochs to train for\n",
    "    - logger: Logger object for logging purpose\n",
    "    Returns: Nothing, but prints model accuracies during training.\n",
    "    \"\"\"\n",
    "    loss_array = []\n",
    "    num_batch = 0\n",
    "    model = model.to(device=device)  # move the model parameters to CPU/GPU\n",
    "    print('Begin trainning...')\n",
    "    for e in range(epochs):\n",
    "        for t, (x, y) in enumerate(loader_train):\n",
    "            if e == 0:\n",
    "                num_batch += 1\n",
    "            model.train()  # put model to training mode\n",
    "            x = x.to(device=device, dtype=dtype)  # move to device, e.g. GPU\n",
    "            mu_hat, sigma_hat, x_hat = model(x)\n",
    "            \n",
    "            loss = beta_vae_loss(mu_hat, sigma_hat, x_hat, x)\n",
    "            \n",
    "            optimizer.zero_grad()\n",
    "            loss.backward()\n",
    "            optimizer.step()\n",
    "            loss_array.append(loss.item())\n",
    "            if t % 100 == 0:\n",
    "                # logger.writer.add_scalar(\"Loss/train\", loss.item(), e*num_batch+t)\n",
    "                # logger.log('Epoch %d, Iteration %d, loss = %.4f' % (e, t, loss.item()))\n",
    "                print(f'Epoch {e}, Iteration {t}, loss = {loss.item()}')\n",
    "#         train_acc = check_accuracy(loader_train, 'train', model, device, dtype, logger)\n",
    "#         logger.writer.add_scalar(\"Acc/train\", train_acc, e)        \n",
    "        # get validation loss\n",
    "#         model.eval()\n",
    "#         val_loss = check_accuracy(loader_val, 'val', model, device, dtype, logger)\n",
    "#         logger.writer.add_scalar(\"Acc/valid\", val_acc, e)        \n",
    "#         logger.log()\n",
    "        \n",
    "        # Save model per fixed epoch interval\n",
    "#         if e > 0 and e % 10 == 0:\n",
    "#             logger.save_model(model,f\"epoch{e}\")\n",
    "#         elif val_acc >= 0.83:\n",
    "#             logger.save_model(model,f\"valacc83-epoch{e}\")\n",
    "#         elif val_acc >= 0.84:\n",
    "#             logger.save_model(model,f\"valacc84-epoch{e}\")\n",
    "    # save final model\n",
    "#     logger.save_model(model,f\"epoch{e}\")\n",
    "    return model, loss_array"
   ]
  },
  {
   "cell_type": "code",
   "execution_count": 146,
   "id": "54ec2618",
   "metadata": {
    "colab": {
     "base_uri": "https://localhost:8080/",
     "height": 1000
    },
    "id": "54ec2618",
    "outputId": "400e57b2-add1-4702-ce61-c52ec8b89bd2",
    "scrolled": false
   },
   "outputs": [
    {
     "name": "stdout",
     "output_type": "stream",
     "text": [
      "Begin trainning...\n",
      "Epoch 0, Iteration 0, loss = 0.06046647951006889\n",
      "Epoch 0, Iteration 100, loss = 0.06020223721861839\n",
      "Epoch 0, Iteration 200, loss = 0.0640389546751976\n",
      "Epoch 0, Iteration 300, loss = 0.05823676288127899\n",
      "Epoch 0, Iteration 400, loss = 0.06513047963380814\n",
      "Epoch 1, Iteration 0, loss = 0.059517037123441696\n",
      "Epoch 1, Iteration 100, loss = 0.05934477224946022\n",
      "Epoch 1, Iteration 200, loss = 0.06300339847803116\n",
      "Epoch 1, Iteration 300, loss = 0.05719819664955139\n",
      "Epoch 1, Iteration 400, loss = 0.06387331336736679\n",
      "Epoch 2, Iteration 0, loss = 0.05850780010223389\n",
      "Epoch 2, Iteration 100, loss = 0.058411091566085815\n",
      "Epoch 2, Iteration 200, loss = 0.06185159459710121\n",
      "Epoch 2, Iteration 300, loss = 0.05600367486476898\n",
      "Epoch 2, Iteration 400, loss = 0.06247584894299507\n",
      "Epoch 3, Iteration 0, loss = 0.05737905204296112\n",
      "Epoch 3, Iteration 100, loss = 0.05741916596889496\n",
      "Epoch 3, Iteration 200, loss = 0.060684338212013245\n",
      "Epoch 3, Iteration 300, loss = 0.0547696053981781\n",
      "Epoch 3, Iteration 400, loss = 0.0612071268260479\n",
      "Epoch 4, Iteration 0, loss = 0.05631779879331589\n",
      "Epoch 4, Iteration 100, loss = 0.05653711408376694\n",
      "Epoch 4, Iteration 200, loss = 0.059689175337553024\n",
      "Epoch 4, Iteration 300, loss = 0.05374414101243019\n",
      "Epoch 4, Iteration 400, loss = 0.06023971736431122\n",
      "Epoch 5, Iteration 0, loss = 0.05548213794827461\n",
      "Epoch 5, Iteration 100, loss = 0.05587355047464371\n",
      "Epoch 5, Iteration 200, loss = 0.05896715447306633\n",
      "Epoch 5, Iteration 300, loss = 0.05302125960588455\n",
      "Epoch 5, Iteration 400, loss = 0.05957631394267082\n",
      "Epoch 6, Iteration 0, loss = 0.05487121641635895\n",
      "Epoch 6, Iteration 100, loss = 0.055377308279275894\n",
      "Epoch 6, Iteration 200, loss = 0.058431535959243774\n",
      "Epoch 6, Iteration 300, loss = 0.05249809846282005\n",
      "Epoch 6, Iteration 400, loss = 0.05910249799489975\n",
      "Epoch 7, Iteration 0, loss = 0.05440989136695862\n",
      "Epoch 7, Iteration 100, loss = 0.054994210600852966\n",
      "Epoch 7, Iteration 200, loss = 0.058014947921037674\n",
      "Epoch 7, Iteration 300, loss = 0.05208493396639824\n",
      "Epoch 7, Iteration 400, loss = 0.05872224643826485\n",
      "Epoch 8, Iteration 0, loss = 0.05404827743768692\n",
      "Epoch 8, Iteration 100, loss = 0.054681066423654556\n",
      "Epoch 8, Iteration 200, loss = 0.05768275260925293\n",
      "Epoch 8, Iteration 300, loss = 0.05176663398742676\n",
      "Epoch 8, Iteration 400, loss = 0.05842705816030502\n",
      "Epoch 9, Iteration 0, loss = 0.05376148968935013\n",
      "Epoch 9, Iteration 100, loss = 0.054431404918432236\n",
      "Epoch 9, Iteration 200, loss = 0.05740875378251076\n",
      "Epoch 9, Iteration 300, loss = 0.0515073724091053\n",
      "Epoch 9, Iteration 400, loss = 0.05819312110543251\n",
      "Epoch 10, Iteration 0, loss = 0.05351458117365837\n",
      "Epoch 10, Iteration 100, loss = 0.05421959608793259\n",
      "Epoch 10, Iteration 200, loss = 0.05717075616121292\n",
      "Epoch 10, Iteration 300, loss = 0.05129280686378479\n",
      "Epoch 10, Iteration 400, loss = 0.05799952149391174\n",
      "Epoch 11, Iteration 0, loss = 0.053307294845581055\n",
      "Epoch 11, Iteration 100, loss = 0.05403858423233032\n",
      "Epoch 11, Iteration 200, loss = 0.05696294829249382\n",
      "Epoch 11, Iteration 300, loss = 0.051116108894348145\n",
      "Epoch 11, Iteration 400, loss = 0.05783412605524063\n",
      "Epoch 12, Iteration 0, loss = 0.053111862391233444\n",
      "Epoch 12, Iteration 100, loss = 0.0538804866373539\n",
      "Epoch 12, Iteration 200, loss = 0.056777000427246094\n",
      "Epoch 12, Iteration 300, loss = 0.05096590891480446\n",
      "Epoch 12, Iteration 400, loss = 0.05769209936261177\n",
      "Epoch 13, Iteration 0, loss = 0.05293702706694603\n",
      "Epoch 13, Iteration 100, loss = 0.053745903074741364\n",
      "Epoch 13, Iteration 200, loss = 0.05661164969205856\n",
      "Epoch 13, Iteration 300, loss = 0.0508384145796299\n",
      "Epoch 13, Iteration 400, loss = 0.05756489560008049\n",
      "Epoch 14, Iteration 0, loss = 0.05277511104941368\n",
      "Epoch 14, Iteration 100, loss = 0.05362476408481598\n",
      "Epoch 14, Iteration 200, loss = 0.05645640566945076\n",
      "Epoch 14, Iteration 300, loss = 0.05072949454188347\n",
      "Epoch 14, Iteration 400, loss = 0.05745719000697136\n",
      "Epoch 15, Iteration 0, loss = 0.05263238400220871\n",
      "Epoch 15, Iteration 100, loss = 0.05350610613822937\n",
      "Epoch 15, Iteration 200, loss = 0.05630916729569435\n",
      "Epoch 15, Iteration 300, loss = 0.05062011629343033\n",
      "Epoch 15, Iteration 400, loss = 0.057362113147974014\n",
      "Epoch 16, Iteration 0, loss = 0.052494026720523834\n",
      "Epoch 16, Iteration 100, loss = 0.05340151488780975\n",
      "Epoch 16, Iteration 200, loss = 0.0561799630522728\n",
      "Epoch 16, Iteration 300, loss = 0.05053179711103439\n",
      "Epoch 16, Iteration 400, loss = 0.05727352574467659\n",
      "Epoch 17, Iteration 0, loss = 0.05237843096256256\n",
      "Epoch 17, Iteration 100, loss = 0.05330381169915199\n",
      "Epoch 17, Iteration 200, loss = 0.0560593456029892\n",
      "Epoch 17, Iteration 300, loss = 0.050451673567295074\n",
      "Epoch 17, Iteration 400, loss = 0.0571943037211895\n",
      "Epoch 18, Iteration 0, loss = 0.052268341183662415\n",
      "Epoch 18, Iteration 100, loss = 0.053214170038700104\n",
      "Epoch 18, Iteration 200, loss = 0.05594799667596817\n",
      "Epoch 18, Iteration 300, loss = 0.050380006432533264\n",
      "Epoch 18, Iteration 400, loss = 0.057123612612485886\n",
      "Epoch 19, Iteration 0, loss = 0.05217131972312927\n",
      "Epoch 19, Iteration 100, loss = 0.05313372239470482\n",
      "Epoch 19, Iteration 200, loss = 0.055843111127614975\n",
      "Epoch 19, Iteration 300, loss = 0.05031478404998779\n",
      "Epoch 19, Iteration 400, loss = 0.05705702677369118\n",
      "Epoch 20, Iteration 0, loss = 0.052075523883104324\n",
      "Epoch 20, Iteration 100, loss = 0.05305739492177963\n",
      "Epoch 20, Iteration 200, loss = 0.055742599070072174\n",
      "Epoch 20, Iteration 300, loss = 0.05025690421462059\n",
      "Epoch 20, Iteration 400, loss = 0.05699709430336952\n",
      "Epoch 21, Iteration 0, loss = 0.05198704078793526\n",
      "Epoch 21, Iteration 100, loss = 0.0529862605035305\n",
      "Epoch 21, Iteration 200, loss = 0.055648740381002426\n",
      "Epoch 21, Iteration 300, loss = 0.05020330846309662\n",
      "Epoch 21, Iteration 400, loss = 0.05694545805454254\n",
      "Epoch 22, Iteration 0, loss = 0.051895372569561005\n",
      "Epoch 22, Iteration 100, loss = 0.05291580781340599\n",
      "Epoch 22, Iteration 200, loss = 0.0555603913962841\n",
      "Epoch 22, Iteration 300, loss = 0.05015229433774948\n",
      "Epoch 22, Iteration 400, loss = 0.056900251656770706\n",
      "Epoch 23, Iteration 0, loss = 0.05180906131863594\n",
      "Epoch 23, Iteration 100, loss = 0.052852172404527664\n",
      "Epoch 23, Iteration 200, loss = 0.055474914610385895\n",
      "Epoch 23, Iteration 300, loss = 0.05010484158992767\n",
      "Epoch 23, Iteration 400, loss = 0.05685625970363617\n",
      "Epoch 24, Iteration 0, loss = 0.05172749608755112\n",
      "Epoch 24, Iteration 100, loss = 0.052789684385061264\n",
      "Epoch 24, Iteration 200, loss = 0.05539434403181076\n",
      "Epoch 24, Iteration 300, loss = 0.05006013810634613\n",
      "Epoch 24, Iteration 400, loss = 0.05681385099887848\n",
      "Epoch 25, Iteration 0, loss = 0.05164610594511032\n",
      "Epoch 25, Iteration 100, loss = 0.05272911861538887\n",
      "Epoch 25, Iteration 200, loss = 0.055311791598796844\n",
      "Epoch 25, Iteration 300, loss = 0.050017062574625015\n",
      "Epoch 25, Iteration 400, loss = 0.05676576495170593\n",
      "Epoch 26, Iteration 0, loss = 0.05156763643026352\n",
      "Epoch 26, Iteration 100, loss = 0.05267217382788658\n",
      "Epoch 26, Iteration 200, loss = 0.05522751808166504\n",
      "Epoch 26, Iteration 300, loss = 0.04997355490922928\n",
      "Epoch 26, Iteration 400, loss = 0.05672377720475197\n",
      "Epoch 27, Iteration 0, loss = 0.05149722844362259\n",
      "Epoch 27, Iteration 100, loss = 0.05261346325278282\n",
      "Epoch 27, Iteration 200, loss = 0.05514542758464813\n",
      "Epoch 27, Iteration 300, loss = 0.04993513226509094\n",
      "Epoch 27, Iteration 400, loss = 0.0566854253411293\n",
      "Epoch 28, Iteration 0, loss = 0.05142839625477791\n",
      "Epoch 28, Iteration 100, loss = 0.05255405977368355\n",
      "Epoch 28, Iteration 200, loss = 0.05506420508027077\n",
      "Epoch 28, Iteration 300, loss = 0.049894727766513824\n",
      "Epoch 28, Iteration 400, loss = 0.05665287375450134\n",
      "Epoch 29, Iteration 0, loss = 0.05135999247431755\n",
      "Epoch 29, Iteration 100, loss = 0.0524982288479805\n",
      "Epoch 29, Iteration 200, loss = 0.05498639494180679\n",
      "Epoch 29, Iteration 300, loss = 0.049856312572956085\n",
      "Epoch 29, Iteration 400, loss = 0.05662348121404648\n"
     ]
    }
   ],
   "source": [
    "# vae = VAE(10)\n",
    "logger = Logger()\n",
    "logger.set_model_save_location('VAE')\n",
    "seed = 0\n",
    "experiment = f'VAE-seed{seed}-mnist'\n",
    "# logger.set_experiment(experiment)\n",
    "\n",
    "batch_size = 128\n",
    "loader_train = DataLoader(mnist_train, batch_size=batch_size)\n",
    "loader_val = DataLoader(mnist_test, batch_size=batch_size)\n",
    "optimizer = torch.optim.Adam(vae.parameters(), lr=0.0001)\n",
    "\n",
    "np.random.seed(seed)\n",
    "torch.manual_seed(seed)\n",
    "\n",
    "# trained_model, loss_values = train(vae, loader_train, optimizer, loader_val, 30, logger, device, dtype)\n",
    "trained_model, loss_values = train(trained_model, loader_train, optimizer, loader_val, 30, logger, device, dtype)\n",
    "# from google.colab import files\n",
    "# np.save('losses.npy',loss_values)\n",
    "# torch.save(trained_model.state_dict(),'vae_10_epochs')\n",
    "# files.download('vae_10_epochs') \n",
    "# files.download('losses.npy')"
   ]
  },
  {
   "cell_type": "code",
   "execution_count": 151,
   "id": "5fd5d057",
   "metadata": {
    "id": "5fd5d057"
   },
   "outputs": [
    {
     "data": {
      "text/plain": [
       "<matplotlib.image.AxesImage at 0x7fb4ac902fd0>"
      ]
     },
     "execution_count": 151,
     "metadata": {},
     "output_type": "execute_result"
    },
    {
     "data": {
      "image/png": "[encoded data removed]",
      "text/plain": [
       "<Figure size 432x288 with 1 Axes>"
      ]
     },
     "metadata": {
      "needs_background": "light"
     },
     "output_type": "display_data"
    },
    {
     "data": {
      "image/png": "[encoded data removed]",
      "text/plain": [
       "<Figure size 432x288 with 1 Axes>"
      ]
     },
     "metadata": {
      "needs_background": "light"
     },
     "output_type": "display_data"
    }
   ],
   "source": [
    "sample = mnist_train[8][0]\n",
    "plt.imshow(torch.squeeze(sample))\n",
    "plt.figure()\n",
    "mu_hat, sigma_hat, x_hat = trained_model(torch.unsqueeze(sample,0))\n",
    "plt.imshow(torch.squeeze(torch.squeeze(x_hat)).detach())"
   ]
  },
  {
   "cell_type": "code",
   "execution_count": 154,
   "id": "09c5e2bd",
   "metadata": {
    "id": "09c5e2bd"
   },
   "outputs": [
    {
     "data": {
      "text/plain": [
       "<matplotlib.image.AxesImage at 0x7fb4acae0eb0>"
      ]
     },
     "execution_count": 154,
     "metadata": {},
     "output_type": "execute_result"
    },
    {
     "data": {
      "image/png": "[encoded data removed]",
      "text/plain": [
       "<Figure size 432x288 with 1 Axes>"
      ]
     },
     "metadata": {
      "needs_background": "light"
     },
     "output_type": "display_data"
    },
    {
     "data": {
      "image/png": "[encoded data removed]",
      "text/plain": [
       "<Figure size 432x288 with 1 Axes>"
      ]
     },
     "metadata": {
      "needs_background": "light"
     },
     "output_type": "display_data"
    }
   ],
   "source": [
    "sample = mnist_train[9][0]\n",
    "plt.imshow(torch.squeeze(sample))\n",
    "plt.figure()\n",
    "mu_hat, sigma_hat, x_hat = vae(torch.unsqueeze(sample,0))\n",
    "plt.imshow(torch.squeeze(torch.squeeze(x_hat)).detach())"
   ]
  },
  {
   "cell_type": "code",
   "execution_count": 155,
   "id": "86bdd785",
   "metadata": {},
   "outputs": [
    {
     "data": {
      "text/plain": [
       "[<matplotlib.lines.Line2D at 0x7fb4acb0ebe0>]"
      ]
     },
     "execution_count": 155,
     "metadata": {},
     "output_type": "execute_result"
    },
    {
     "data": {
      "image/png": "[encoded data removed]",
      "text/plain": [
       "<Figure size 432x288 with 1 Axes>"
      ]
     },
     "metadata": {
      "needs_background": "light"
     },
     "output_type": "display_data"
    }
   ],
   "source": [
    "plt.plot(loss_values)"
   ]
  },
  {
   "cell_type": "code",
   "execution_count": 156,
   "id": "ab98a256",
   "metadata": {},
   "outputs": [],
   "source": [
    "torch.save(trained_model.state_dict(),'temp_model_epoch11-30')"
   ]
  },
  {
   "cell_type": "code",
   "execution_count": null,
   "id": "71025d3c",
   "metadata": {},
   "outputs": [],
   "source": []
  }
 ],
 "metadata": {
  "accelerator": "GPU",
  "colab": {
   "name": "VAE.ipynb",
   "provenance": []
  },
  "gpuClass": "standard",
  "kernelspec": {
   "display_name": "Python 3",
   "language": "python",
   "name": "python3"
  },
  "language_info": {
   "codemirror_mode": {
    "name": "ipython",
    "version": 3
   },
   "file_extension": ".py",
   "mimetype": "text/x-python",
   "name": "python",
   "nbconvert_exporter": "python",
   "pygments_lexer": "ipython3",
   "version": "3.8.2"
  }
 },
 "nbformat": 4,
 "nbformat_minor": 5
}
