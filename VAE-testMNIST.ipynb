{
 "cells": [
  {
   "cell_type": "code",
   "execution_count": 1,
   "id": "NB7Va37UmkNm",
   "metadata": {
    "colab": {
     "base_uri": "https://localhost:8080/"
    },
    "id": "NB7Va37UmkNm",
    "outputId": "981870e9-0caa-4f64-a183-eb15a6b020c8"
   },
   "outputs": [
    {
     "name": "stdout",
     "output_type": "stream",
     "text": [
      "Looking in indexes: https://pypi.org/simple, https://us-python.pkg.dev/colab-wheels/public/simple/\n",
      "Requirement already satisfied: webdataset==0.1.62 in /usr/local/lib/python3.7/dist-packages (0.1.62)\n",
      "Requirement already satisfied: numpy in /usr/local/lib/python3.7/dist-packages (from webdataset==0.1.62) (1.21.6)\n",
      "Requirement already satisfied: braceexpand in /usr/local/lib/python3.7/dist-packages (from webdataset==0.1.62) (0.1.7)\n",
      "Looking in indexes: https://pypi.org/simple, https://us-python.pkg.dev/colab-wheels/public/simple/\n",
      "Requirement already satisfied: pytorch-model-summary in /usr/local/lib/python3.7/dist-packages (0.1.2)\n",
      "Requirement already satisfied: tqdm in /usr/local/lib/python3.7/dist-packages (from pytorch-model-summary) (4.64.0)\n",
      "Requirement already satisfied: numpy in /usr/local/lib/python3.7/dist-packages (from pytorch-model-summary) (1.21.6)\n",
      "Requirement already satisfied: torch in /usr/local/lib/python3.7/dist-packages (from pytorch-model-summary) (1.12.0+cu113)\n",
      "Requirement already satisfied: typing-extensions in /usr/local/lib/python3.7/dist-packages (from torch->pytorch-model-summary) (4.1.1)\n"
     ]
    }
   ],
   "source": [
    "!pip install Pillow --quiet\n",
    "!pip install webdataset==0.1.62\n",
    "!pip install pytorch-model-summary"
   ]
  },
  {
   "cell_type": "code",
   "execution_count": 2,
   "id": "mathematical-beginning",
   "metadata": {
    "id": "mathematical-beginning"
   },
   "outputs": [],
   "source": [
    "from utils import *\n",
    "import torch\n",
    "import webdataset as wds\n",
    "from itertools import islice\n",
    "import struct, ast\n",
    "from importlib_metadata import version\n",
    "from pytorch_model_summary import summary"
   ]
  },
  {
   "cell_type": "code",
   "execution_count": 3,
   "id": "fMC2c7mLGIIQ",
   "metadata": {
    "colab": {
     "base_uri": "https://localhost:8080/",
     "height": 36
    },
    "id": "fMC2c7mLGIIQ",
    "outputId": "49a4c6a0-d373-4f9a-cc5e-be881623d4b3"
   },
   "outputs": [
    {
     "data": {
      "text/plain": [
       "'0.1.62'"
      ]
     },
     "execution_count": 3,
     "metadata": {},
     "output_type": "execute_result"
    }
   ],
   "source": [
    "version('webdataset')"
   ]
  },
  {
   "cell_type": "code",
   "execution_count": 4,
   "id": "framed-living",
   "metadata": {
    "colab": {
     "base_uri": "https://localhost:8080/"
    },
    "id": "framed-living",
    "outputId": "027ded48-fd78-4428-8154-722502a89370"
   },
   "outputs": [
    {
     "name": "stdout",
     "output_type": "stream",
     "text": [
      "using device: cpu\n"
     ]
    }
   ],
   "source": [
    "class Logger():\n",
    "    def __init__(self, mode='log'):\n",
    "        self.mode = mode\n",
    "        \n",
    "    def set_model_save_location(self, model_dir):\n",
    "        self.model_dir = f\"saved-model/{model_dir}\"\n",
    "        \n",
    "    def set_experiment(self, experiment_name):\n",
    "        self.experiment_name = experiment_name\n",
    "        log_format = '%(asctime)s %(message)s'\n",
    "        logging.basicConfig(stream=sys.stdout, level=logging.INFO,\n",
    "                            format=log_format, datefmt='%m/%d %I:%M:%S %p')\n",
    "        fh = logging.FileHandler(os.path.join('training-logs', f'log-{experiment_name}-{datetime.datetime.today()}.txt'))\n",
    "        fh.setFormatter(logging.Formatter(log_format))\n",
    "        logging.getLogger().addHandler(fh)\n",
    "        self.writer = SummaryWriter(f\"runs/{experiment_name}\")\n",
    "            \n",
    "    def log(self, message=\"\"):\n",
    "        if self.mode == 'log':\n",
    "            logging.info(message)\n",
    "        elif self.mode == 'debug':\n",
    "            print(message)\n",
    "\n",
    "    def save_model(self, model, info):\n",
    "        torch.save(model.state_dict(), f\"{self.model_dir}/model-{self.experiment_name}-{info}\")\n",
    "        \n",
    "USE_GPU = True\n",
    "\n",
    "dtype = torch.float32 # we will be using float throughout this tutorial\n",
    "\n",
    "if USE_GPU and torch.cuda.is_available():\n",
    "    device = torch.device('cuda')\n",
    "else:\n",
    "    device = torch.device('cpu')\n",
    "\n",
    "# Constant to control how frequently we print train loss\n",
    "print_every = 100\n",
    "\n",
    "print('using device:', device)\n",
    "\n",
    "def add_chan_dim(x):\n",
    "    x = torch.tensor(x)\n",
    "#     x = torch.transpose(x, 0, 1)\n",
    "    return torch.unsqueeze(x,0)\n",
    "\n",
    "\n",
    "def selectLabel(x,lbl):\n",
    "    # # function to select desired label\n",
    "    lbl_idx = [\"id\",\"sex\",\"age\",\"handedness\",\"index\"].index(lbl.lower())\n",
    "    x = x.decode(\"utf-8\").split(\",\")\n",
    "    # return x if lbl_idx == 0 else float(x)\n",
    "    return 1\n",
    "    \n",
    "s3_url = 'https://childmind.s3.us-west-1.amazonaws.com/python/childmind_train.tar' # replace 'train' with 'val' and 'test' accordingly\n",
    "train_data = wds.WebDataset(s3_url).decode().map_dict(npy=add_chan_dim, cls=lambda x: selectLabel(x,'sex')).to_tuple(\"npy\",\"cls\")\n",
    "\n",
    "s3_url = 'https://childmind.s3.us-west-1.amazonaws.com/python/childmind_val.tar' # replace 'train' with 'val' and 'test' accordingly\n",
    "val_data = wds.WebDataset(s3_url).decode().map_dict(npy=add_chan_dim, cls=lambda x: selectLabel(x,'sex')).to_tuple(\"npy\",\"cls\")"
   ]
  },
  {
   "cell_type": "code",
   "execution_count": 5,
   "id": "45d9b9f4",
   "metadata": {},
   "outputs": [],
   "source": [
    "# use mnist to test\n",
    "mnist_train = torchvision.datasets.MNIST('./mnist', download=True, transform = transforms.ToTensor())\n",
    "mnist_test = torchvision.datasets.MNIST('./mnist', train=False, download=True, transform = torchvision.transforms.ToTensor())"
   ]
  },
  {
   "cell_type": "code",
   "execution_count": 28,
   "id": "ignored-eagle",
   "metadata": {
    "id": "ignored-eagle"
   },
   "outputs": [],
   "source": [
    "class VAE(nn.Module): \n",
    "    \n",
    "    def __init__(self, latent_dim):\n",
    "        # latent_dim: dimension of the latent representation vector\n",
    "        super().__init__()\n",
    "        self.latent_dim = latent_dim\n",
    "        \n",
    "        encoder_l = [self.encoder_conv_block(True)]\n",
    "        for i in range(1):\n",
    "            encoder_l.append(self.encoder_conv_block())\n",
    "#         encoder_l.append(self.encoder_conv_block(False, 32, 32, 3, 1, 0))\n",
    "        encoder_l.append(nn.Flatten())\n",
    "        self.encoder_before_last = nn.ModuleList(encoder_l)\n",
    "        #self.encoder_mu = self.encoder_linear_block(960,latent_dim)\n",
    "        #self.encoder_sigma = self.encoder_linear_block(960, latent_dim)\n",
    "        self.encoder_mu = self.encoder_linear_block(392,latent_dim)\n",
    "        self.encoder_sigma = self.encoder_linear_block(392, latent_dim)\n",
    "        \n",
    "#        decoder_l = [self.decoder_linear_block(latent_dim, 960)]\n",
    "        decoder_l = [self.decoder_linear_block(latent_dim, 392)]\n",
    "#         decoder_l.append(self.decoder_conv_block(False, 32, 32, 3, 1, 0))\n",
    "        for i in range(1):\n",
    "            decoder_l.append(self.decoder_conv_block())\n",
    "        decoder_l.append(self.decoder_conv_block(True))\n",
    "        self.decoder = nn.ModuleList(decoder_l)\n",
    "    \n",
    "    def encoder_conv_block(self, is_start=False, in_channels=8, out_channels=8, kernel_size=6, stride=2, padding=2):\n",
    "        if is_start:\n",
    "            return nn.Sequential(\n",
    "                nn.Conv2d(1, out_channels, kernel_size, stride, padding),\n",
    "                nn.ReLU()\n",
    "            )\n",
    "        else:\n",
    "            return nn.Sequential(\n",
    "                nn.Conv2d(in_channels, out_channels, kernel_size, stride, padding),\n",
    "                nn.ReLU()\n",
    "            )\n",
    "    def encoder_linear_block(self, in_chan, out_chan):\n",
    "        return nn.Sequential(\n",
    "            nn.Linear(in_chan, out_chan),\n",
    "            nn.ReLU()\n",
    "        )\n",
    "    \n",
    "    def decoder_conv_block(self, is_last=False, in_channels=8, out_channels=8, kernel_size=6, stride=2, padding=2):\n",
    "        if is_last:\n",
    "            return nn.Sequential(\n",
    "                nn.ConvTranspose2d(in_channels, 1, kernel_size, stride, padding),\n",
    "                nn.ReLU()\n",
    "            )\n",
    "        else:\n",
    "            return nn.Sequential(\n",
    "                nn.ConvTranspose2d(in_channels, out_channels, kernel_size, stride, padding),\n",
    "                nn.ReLU()\n",
    "            )\n",
    "    \n",
    "    def decoder_linear_block(self, in_chan, out_chan):\n",
    "        return nn.Sequential(\n",
    "            nn.Linear(in_chan, out_chan),\n",
    "            nn.ReLU()\n",
    "        )\n",
    "    \n",
    "    def forward(self, x):\n",
    "        z, mu, sigma = self.encode(x)\n",
    "        x = self.decode(z)\n",
    "            \n",
    "        return x, mu, sigma\n",
    "    \n",
    "    def encode(self,x):\n",
    "        for f in self.encoder_before_last:\n",
    "            x = f(x)\n",
    "\n",
    "        mu = self.encoder_mu(x)\n",
    "        sigma = self.encoder_sigma(x)\n",
    "        z = self.sample_z(mu, sigma)\n",
    "        \n",
    "        return z, mu, sigma\n",
    "    \n",
    "    def decode(self,z):\n",
    "        x = self.decoder[0](z) # pass through the linear layer\n",
    "#         x = x.view(-1, 32, 1, 30) # reshape the tensor to be expected dimension for ConvTranspose\n",
    "        x = x.view(-1, 8, 7, 7) # reshape the tensor to be expected dimension for ConvTranspose\n",
    "        for i in range(1,len(self.decoder)):\n",
    "            f = self.decoder[i]\n",
    "            x = f(x) \n",
    "            \n",
    "        return x\n",
    "    \n",
    "    def sample_z(self, mu, sigma):\n",
    "        # Input\n",
    "        #     mu:     [batch_size, self.latent_size] the predicted mu value for each sample in the batch\n",
    "        #     sigma:  [batch_size, self.latent_size] the predicted diag elem of sigma value for each sample in the batch\n",
    "        # Output\n",
    "        #     z: [batch_size, self.latent_size] the latent representation of each sample in the batch\n",
    "        # Reference: https://agustinus.kristia.de/techblog/2016/12/10/variational-autoencoder/\n",
    "        \n",
    "        # eps ~ N(0,1)        \n",
    "        batch_size = mu.size()[0]\n",
    "        eps = torch.randn((batch_size,1), device=device, dtype=dtype)\n",
    "        z = mu + sigma/2*eps\n",
    "        \n",
    "        return z\n",
    "        "
   ]
  },
  {
   "cell_type": "code",
   "execution_count": 25,
   "id": "c39cb173",
   "metadata": {
    "colab": {
     "base_uri": "https://localhost:8080/",
     "height": 364
    },
    "id": "c39cb173",
    "outputId": "9c32b6ba-8661-4105-d337-7ed86919c4d8",
    "scrolled": false
   },
   "outputs": [
    {
     "name": "stdout",
     "output_type": "stream",
     "text": [
      "torch.Size([1, 28, 28])\n",
      "--------------------------------------------------------------------------\n",
      "         Layer (type)        Output Shape         Param #     Tr. Param #\n",
      "==========================================================================\n",
      "             Conv2d-1      [1, 8, 14, 14]             296             296\n",
      "               ReLU-2      [1, 8, 14, 14]               0               0\n",
      "             Conv2d-3        [1, 8, 7, 7]           2,312           2,312\n",
      "               ReLU-4        [1, 8, 7, 7]               0               0\n",
      "            Flatten-5            [1, 392]               0               0\n",
      "             Linear-6             [1, 10]           3,930           3,930\n",
      "               ReLU-7             [1, 10]               0               0\n",
      "             Linear-8             [1, 10]           3,930           3,930\n",
      "               ReLU-9             [1, 10]               0               0\n",
      "            Linear-10            [1, 392]           4,312           4,312\n",
      "              ReLU-11            [1, 392]               0               0\n",
      "   ConvTranspose2d-12      [1, 8, 14, 14]           2,312           2,312\n",
      "              ReLU-13      [1, 8, 14, 14]               0               0\n",
      "   ConvTranspose2d-14      [1, 1, 28, 28]             289             289\n",
      "              ReLU-15      [1, 1, 28, 28]               0               0\n",
      "==========================================================================\n",
      "Total params: 17,381\n",
      "Trainable params: 17,381\n",
      "Non-trainable params: 0\n",
      "--------------------------------------------------------------------------\n"
     ]
    }
   ],
   "source": [
    "vae = VAE(10)\n",
    "sample = mnist_train[0][0]\n",
    "print(sample.shape)\n",
    "print(summary(vae, torch.unsqueeze(sample,0), show_input=False))"
   ]
  },
  {
   "cell_type": "markdown",
   "id": "9d6724f9",
   "metadata": {
    "id": "9d6724f9"
   },
   "source": [
    "KL divergence loss\n",
    "![kl_loss](https://github.com/dungscout96/deep-representation-learning-EEG/blob/master/images/kl_loss.png?raw=1)"
   ]
  },
  {
   "cell_type": "code",
   "execution_count": 47,
   "id": "48aa32b1",
   "metadata": {
    "id": "48aa32b1"
   },
   "outputs": [],
   "source": [
    "def beta_vae_loss(mu_hat, sigma_hat, x_hat, x_target):\n",
    "    likelihood_loss = F.mse_loss(x_hat, x_target)\n",
    "    kl_loss = torch.mean(-0.5 * torch.sum(1 + sigma_hat - torch.exp(sigma_hat) - mu_hat ** 2, dim=1), dim=0)\n",
    "    return likelihood_loss + 1*kl_loss # average the loss of batch\n",
    "\n",
    "def train(model, loader_train, optimizer, loader_val, epochs, logger, device, dtype):\n",
    "    \"\"\" \n",
    "    Inputs:\n",
    "    - model: A PyTorch Module giving the model to train.\n",
    "    - optimizer: An Optimizer object we will use to train the model\n",
    "    - epochs: (Optional) A Python integer giving the number of epochs to train for\n",
    "    - logger: Logger object for logging purpose\n",
    "    Returns: Nothing, but prints model accuracies during training.\n",
    "    \"\"\"\n",
    "    loss_array = []\n",
    "    num_batch = 0\n",
    "    model = model.to(device=device)  # move the model parameters to CPU/GPU\n",
    "    print('Begin trainning...')\n",
    "    for e in range(epochs):\n",
    "        for t, (x, y) in enumerate(loader_train):\n",
    "            if e == 0:\n",
    "                num_batch += 1\n",
    "            model.train()  # put model to training mode\n",
    "            x = x.to(device=device, dtype=dtype)  # move to device, e.g. GPU\n",
    "            x_hat, mu_hat, sigma_hat = model(x)\n",
    "            \n",
    "            loss = beta_vae_loss(mu_hat, sigma_hat, x_hat, x)\n",
    "            \n",
    "            optimizer.zero_grad()\n",
    "            loss.backward()\n",
    "            optimizer.step()\n",
    "            loss_array.append(loss.item())\n",
    "            if t % 100 == 0:\n",
    "                # logger.writer.add_scalar(\"Loss/train\", loss.item(), e*num_batch+t)\n",
    "                # logger.log('Epoch %d, Iteration %d, loss = %.4f' % (e, t, loss.item()))\n",
    "                print(f'Epoch {e}, Iteration {t}, loss = {loss.item()}')\n",
    "#         train_acc = check_accuracy(loader_train, 'train', model, device, dtype, logger)\n",
    "#         logger.writer.add_scalar(\"Acc/train\", train_acc, e)        \n",
    "        # get validation loss\n",
    "#         model.eval()\n",
    "#         val_loss = check_accuracy(loader_val, 'val', model, device, dtype, logger)\n",
    "#         logger.writer.add_scalar(\"Acc/valid\", val_acc, e)        \n",
    "#         logger.log()\n",
    "        \n",
    "        # Save model per fixed epoch interval\n",
    "        if e > 0 and e % 10 == 0:\n",
    "            torch.save(model.state_dict(),f'temp_model_epoch{41+e}')\n",
    "#             logger.save_model(model,f\"epoch{e}\")\n",
    "#         elif val_acc >= 0.83:\n",
    "#             logger.save_model(model,f\"valacc83-epoch{e}\")\n",
    "#         elif val_acc >= 0.84:\n",
    "#             logger.save_model(model,f\"valacc84-epoch{e}\")\n",
    "    # save final model\n",
    "#     logger.save_model(model,f\"epoch{e}\")\n",
    "    return model, loss_array"
   ]
  },
  {
   "cell_type": "code",
   "execution_count": 48,
   "id": "54ec2618",
   "metadata": {
    "colab": {
     "base_uri": "https://localhost:8080/",
     "height": 1000
    },
    "id": "54ec2618",
    "outputId": "400e57b2-add1-4702-ce61-c52ec8b89bd2",
    "scrolled": true
   },
   "outputs": [
    {
     "name": "stdout",
     "output_type": "stream",
     "text": [
      "Begin trainning...\n",
      "Epoch 0, Iteration 0, loss = 0.1010081097483635\n",
      "Epoch 0, Iteration 100, loss = 0.0861983448266983\n"
     ]
    },
    {
     "ename": "KeyboardInterrupt",
     "evalue": "",
     "output_type": "error",
     "traceback": [
      "\u001b[0;31m---------------------------------------------------------------------------\u001b[0m",
      "\u001b[0;31mKeyboardInterrupt\u001b[0m                         Traceback (most recent call last)",
      "\u001b[0;32m<ipython-input-48-c26f8593fcd2>\u001b[0m in \u001b[0;36m<module>\u001b[0;34m\u001b[0m\n\u001b[1;32m     16\u001b[0m \u001b[0;34m\u001b[0m\u001b[0m\n\u001b[1;32m     17\u001b[0m \u001b[0;31m# trained_model, loss_values = train(vae, loader_train, optimizer, loader_val, 30, logger, device, dtype)\u001b[0m\u001b[0;34m\u001b[0m\u001b[0;34m\u001b[0m\u001b[0;34m\u001b[0m\u001b[0m\n\u001b[0;32m---> 18\u001b[0;31m \u001b[0mtrained_model\u001b[0m\u001b[0;34m,\u001b[0m \u001b[0mloss_values\u001b[0m \u001b[0;34m=\u001b[0m \u001b[0mtrain\u001b[0m\u001b[0;34m(\u001b[0m\u001b[0mvae\u001b[0m\u001b[0;34m,\u001b[0m \u001b[0mloader_train\u001b[0m\u001b[0;34m,\u001b[0m \u001b[0moptimizer\u001b[0m\u001b[0;34m,\u001b[0m \u001b[0mloader_val\u001b[0m\u001b[0;34m,\u001b[0m \u001b[0;36m50\u001b[0m\u001b[0;34m,\u001b[0m \u001b[0mlogger\u001b[0m\u001b[0;34m,\u001b[0m \u001b[0mdevice\u001b[0m\u001b[0;34m,\u001b[0m \u001b[0mdtype\u001b[0m\u001b[0;34m)\u001b[0m\u001b[0;34m\u001b[0m\u001b[0;34m\u001b[0m\u001b[0m\n\u001b[0m\u001b[1;32m     19\u001b[0m \u001b[0;31m# from google.colab import files\u001b[0m\u001b[0;34m\u001b[0m\u001b[0;34m\u001b[0m\u001b[0;34m\u001b[0m\u001b[0m\n\u001b[1;32m     20\u001b[0m \u001b[0;31m# np.save('losses.npy',loss_values)\u001b[0m\u001b[0;34m\u001b[0m\u001b[0;34m\u001b[0m\u001b[0;34m\u001b[0m\u001b[0m\n",
      "\u001b[0;32m<ipython-input-47-b9de4fc6748b>\u001b[0m in \u001b[0;36mtrain\u001b[0;34m(model, loader_train, optimizer, loader_val, epochs, logger, device, dtype)\u001b[0m\n\u001b[1;32m     18\u001b[0m     \u001b[0mprint\u001b[0m\u001b[0;34m(\u001b[0m\u001b[0;34m'Begin trainning...'\u001b[0m\u001b[0;34m)\u001b[0m\u001b[0;34m\u001b[0m\u001b[0;34m\u001b[0m\u001b[0m\n\u001b[1;32m     19\u001b[0m     \u001b[0;32mfor\u001b[0m \u001b[0me\u001b[0m \u001b[0;32min\u001b[0m \u001b[0mrange\u001b[0m\u001b[0;34m(\u001b[0m\u001b[0mepochs\u001b[0m\u001b[0;34m)\u001b[0m\u001b[0;34m:\u001b[0m\u001b[0;34m\u001b[0m\u001b[0;34m\u001b[0m\u001b[0m\n\u001b[0;32m---> 20\u001b[0;31m         \u001b[0;32mfor\u001b[0m \u001b[0mt\u001b[0m\u001b[0;34m,\u001b[0m \u001b[0;34m(\u001b[0m\u001b[0mx\u001b[0m\u001b[0;34m,\u001b[0m \u001b[0my\u001b[0m\u001b[0;34m)\u001b[0m \u001b[0;32min\u001b[0m \u001b[0menumerate\u001b[0m\u001b[0;34m(\u001b[0m\u001b[0mloader_train\u001b[0m\u001b[0;34m)\u001b[0m\u001b[0;34m:\u001b[0m\u001b[0;34m\u001b[0m\u001b[0;34m\u001b[0m\u001b[0m\n\u001b[0m\u001b[1;32m     21\u001b[0m             \u001b[0;32mif\u001b[0m \u001b[0me\u001b[0m \u001b[0;34m==\u001b[0m \u001b[0;36m0\u001b[0m\u001b[0;34m:\u001b[0m\u001b[0;34m\u001b[0m\u001b[0;34m\u001b[0m\u001b[0m\n\u001b[1;32m     22\u001b[0m                 \u001b[0mnum_batch\u001b[0m \u001b[0;34m+=\u001b[0m \u001b[0;36m1\u001b[0m\u001b[0;34m\u001b[0m\u001b[0;34m\u001b[0m\u001b[0m\n",
      "\u001b[0;32m~/miniconda3/envs/ml/lib/python3.8/site-packages/torch/utils/data/dataloader.py\u001b[0m in \u001b[0;36m__next__\u001b[0;34m(self)\u001b[0m\n\u001b[1;32m    515\u001b[0m             \u001b[0;32mif\u001b[0m \u001b[0mself\u001b[0m\u001b[0;34m.\u001b[0m\u001b[0m_sampler_iter\u001b[0m \u001b[0;32mis\u001b[0m \u001b[0;32mNone\u001b[0m\u001b[0;34m:\u001b[0m\u001b[0;34m\u001b[0m\u001b[0;34m\u001b[0m\u001b[0m\n\u001b[1;32m    516\u001b[0m                 \u001b[0mself\u001b[0m\u001b[0;34m.\u001b[0m\u001b[0m_reset\u001b[0m\u001b[0;34m(\u001b[0m\u001b[0;34m)\u001b[0m\u001b[0;34m\u001b[0m\u001b[0;34m\u001b[0m\u001b[0m\n\u001b[0;32m--> 517\u001b[0;31m             \u001b[0mdata\u001b[0m \u001b[0;34m=\u001b[0m \u001b[0mself\u001b[0m\u001b[0;34m.\u001b[0m\u001b[0m_next_data\u001b[0m\u001b[0;34m(\u001b[0m\u001b[0;34m)\u001b[0m\u001b[0;34m\u001b[0m\u001b[0;34m\u001b[0m\u001b[0m\n\u001b[0m\u001b[1;32m    518\u001b[0m             \u001b[0mself\u001b[0m\u001b[0;34m.\u001b[0m\u001b[0m_num_yielded\u001b[0m \u001b[0;34m+=\u001b[0m \u001b[0;36m1\u001b[0m\u001b[0;34m\u001b[0m\u001b[0;34m\u001b[0m\u001b[0m\n\u001b[1;32m    519\u001b[0m             \u001b[0;32mif\u001b[0m \u001b[0mself\u001b[0m\u001b[0;34m.\u001b[0m\u001b[0m_dataset_kind\u001b[0m \u001b[0;34m==\u001b[0m \u001b[0m_DatasetKind\u001b[0m\u001b[0;34m.\u001b[0m\u001b[0mIterable\u001b[0m \u001b[0;32mand\u001b[0m\u001b[0;31m \u001b[0m\u001b[0;31m\\\u001b[0m\u001b[0;34m\u001b[0m\u001b[0;34m\u001b[0m\u001b[0m\n",
      "\u001b[0;32m~/miniconda3/envs/ml/lib/python3.8/site-packages/torch/utils/data/dataloader.py\u001b[0m in \u001b[0;36m_next_data\u001b[0;34m(self)\u001b[0m\n\u001b[1;32m    555\u001b[0m     \u001b[0;32mdef\u001b[0m \u001b[0m_next_data\u001b[0m\u001b[0;34m(\u001b[0m\u001b[0mself\u001b[0m\u001b[0;34m)\u001b[0m\u001b[0;34m:\u001b[0m\u001b[0;34m\u001b[0m\u001b[0;34m\u001b[0m\u001b[0m\n\u001b[1;32m    556\u001b[0m         \u001b[0mindex\u001b[0m \u001b[0;34m=\u001b[0m \u001b[0mself\u001b[0m\u001b[0;34m.\u001b[0m\u001b[0m_next_index\u001b[0m\u001b[0;34m(\u001b[0m\u001b[0;34m)\u001b[0m  \u001b[0;31m# may raise StopIteration\u001b[0m\u001b[0;34m\u001b[0m\u001b[0;34m\u001b[0m\u001b[0m\n\u001b[0;32m--> 557\u001b[0;31m         \u001b[0mdata\u001b[0m \u001b[0;34m=\u001b[0m \u001b[0mself\u001b[0m\u001b[0;34m.\u001b[0m\u001b[0m_dataset_fetcher\u001b[0m\u001b[0;34m.\u001b[0m\u001b[0mfetch\u001b[0m\u001b[0;34m(\u001b[0m\u001b[0mindex\u001b[0m\u001b[0;34m)\u001b[0m  \u001b[0;31m# may raise StopIteration\u001b[0m\u001b[0;34m\u001b[0m\u001b[0;34m\u001b[0m\u001b[0m\n\u001b[0m\u001b[1;32m    558\u001b[0m         \u001b[0;32mif\u001b[0m \u001b[0mself\u001b[0m\u001b[0;34m.\u001b[0m\u001b[0m_pin_memory\u001b[0m\u001b[0;34m:\u001b[0m\u001b[0;34m\u001b[0m\u001b[0;34m\u001b[0m\u001b[0m\n\u001b[1;32m    559\u001b[0m             \u001b[0mdata\u001b[0m \u001b[0;34m=\u001b[0m \u001b[0m_utils\u001b[0m\u001b[0;34m.\u001b[0m\u001b[0mpin_memory\u001b[0m\u001b[0;34m.\u001b[0m\u001b[0mpin_memory\u001b[0m\u001b[0;34m(\u001b[0m\u001b[0mdata\u001b[0m\u001b[0;34m)\u001b[0m\u001b[0;34m\u001b[0m\u001b[0;34m\u001b[0m\u001b[0m\n",
      "\u001b[0;32m~/miniconda3/envs/ml/lib/python3.8/site-packages/torch/utils/data/_utils/fetch.py\u001b[0m in \u001b[0;36mfetch\u001b[0;34m(self, possibly_batched_index)\u001b[0m\n\u001b[1;32m     42\u001b[0m     \u001b[0;32mdef\u001b[0m \u001b[0mfetch\u001b[0m\u001b[0;34m(\u001b[0m\u001b[0mself\u001b[0m\u001b[0;34m,\u001b[0m \u001b[0mpossibly_batched_index\u001b[0m\u001b[0;34m)\u001b[0m\u001b[0;34m:\u001b[0m\u001b[0;34m\u001b[0m\u001b[0;34m\u001b[0m\u001b[0m\n\u001b[1;32m     43\u001b[0m         \u001b[0;32mif\u001b[0m \u001b[0mself\u001b[0m\u001b[0;34m.\u001b[0m\u001b[0mauto_collation\u001b[0m\u001b[0;34m:\u001b[0m\u001b[0;34m\u001b[0m\u001b[0;34m\u001b[0m\u001b[0m\n\u001b[0;32m---> 44\u001b[0;31m             \u001b[0mdata\u001b[0m \u001b[0;34m=\u001b[0m \u001b[0;34m[\u001b[0m\u001b[0mself\u001b[0m\u001b[0;34m.\u001b[0m\u001b[0mdataset\u001b[0m\u001b[0;34m[\u001b[0m\u001b[0midx\u001b[0m\u001b[0;34m]\u001b[0m \u001b[0;32mfor\u001b[0m \u001b[0midx\u001b[0m \u001b[0;32min\u001b[0m \u001b[0mpossibly_batched_index\u001b[0m\u001b[0;34m]\u001b[0m\u001b[0;34m\u001b[0m\u001b[0;34m\u001b[0m\u001b[0m\n\u001b[0m\u001b[1;32m     45\u001b[0m         \u001b[0;32melse\u001b[0m\u001b[0;34m:\u001b[0m\u001b[0;34m\u001b[0m\u001b[0;34m\u001b[0m\u001b[0m\n\u001b[1;32m     46\u001b[0m             \u001b[0mdata\u001b[0m \u001b[0;34m=\u001b[0m \u001b[0mself\u001b[0m\u001b[0;34m.\u001b[0m\u001b[0mdataset\u001b[0m\u001b[0;34m[\u001b[0m\u001b[0mpossibly_batched_index\u001b[0m\u001b[0;34m]\u001b[0m\u001b[0;34m\u001b[0m\u001b[0;34m\u001b[0m\u001b[0m\n",
      "\u001b[0;32m~/miniconda3/envs/ml/lib/python3.8/site-packages/torch/utils/data/_utils/fetch.py\u001b[0m in \u001b[0;36m<listcomp>\u001b[0;34m(.0)\u001b[0m\n\u001b[1;32m     42\u001b[0m     \u001b[0;32mdef\u001b[0m \u001b[0mfetch\u001b[0m\u001b[0;34m(\u001b[0m\u001b[0mself\u001b[0m\u001b[0;34m,\u001b[0m \u001b[0mpossibly_batched_index\u001b[0m\u001b[0;34m)\u001b[0m\u001b[0;34m:\u001b[0m\u001b[0;34m\u001b[0m\u001b[0;34m\u001b[0m\u001b[0m\n\u001b[1;32m     43\u001b[0m         \u001b[0;32mif\u001b[0m \u001b[0mself\u001b[0m\u001b[0;34m.\u001b[0m\u001b[0mauto_collation\u001b[0m\u001b[0;34m:\u001b[0m\u001b[0;34m\u001b[0m\u001b[0;34m\u001b[0m\u001b[0m\n\u001b[0;32m---> 44\u001b[0;31m             \u001b[0mdata\u001b[0m \u001b[0;34m=\u001b[0m \u001b[0;34m[\u001b[0m\u001b[0mself\u001b[0m\u001b[0;34m.\u001b[0m\u001b[0mdataset\u001b[0m\u001b[0;34m[\u001b[0m\u001b[0midx\u001b[0m\u001b[0;34m]\u001b[0m \u001b[0;32mfor\u001b[0m \u001b[0midx\u001b[0m \u001b[0;32min\u001b[0m \u001b[0mpossibly_batched_index\u001b[0m\u001b[0;34m]\u001b[0m\u001b[0;34m\u001b[0m\u001b[0;34m\u001b[0m\u001b[0m\n\u001b[0m\u001b[1;32m     45\u001b[0m         \u001b[0;32melse\u001b[0m\u001b[0;34m:\u001b[0m\u001b[0;34m\u001b[0m\u001b[0;34m\u001b[0m\u001b[0m\n\u001b[1;32m     46\u001b[0m             \u001b[0mdata\u001b[0m \u001b[0;34m=\u001b[0m \u001b[0mself\u001b[0m\u001b[0;34m.\u001b[0m\u001b[0mdataset\u001b[0m\u001b[0;34m[\u001b[0m\u001b[0mpossibly_batched_index\u001b[0m\u001b[0;34m]\u001b[0m\u001b[0;34m\u001b[0m\u001b[0;34m\u001b[0m\u001b[0m\n",
      "\u001b[0;32m~/miniconda3/envs/ml/lib/python3.8/site-packages/torchvision/datasets/mnist.py\u001b[0m in \u001b[0;36m__getitem__\u001b[0;34m(self, index)\u001b[0m\n\u001b[1;32m    104\u001b[0m \u001b[0;34m\u001b[0m\u001b[0m\n\u001b[1;32m    105\u001b[0m         \u001b[0;32mif\u001b[0m \u001b[0mself\u001b[0m\u001b[0;34m.\u001b[0m\u001b[0mtransform\u001b[0m \u001b[0;32mis\u001b[0m \u001b[0;32mnot\u001b[0m \u001b[0;32mNone\u001b[0m\u001b[0;34m:\u001b[0m\u001b[0;34m\u001b[0m\u001b[0;34m\u001b[0m\u001b[0m\n\u001b[0;32m--> 106\u001b[0;31m             \u001b[0mimg\u001b[0m \u001b[0;34m=\u001b[0m \u001b[0mself\u001b[0m\u001b[0;34m.\u001b[0m\u001b[0mtransform\u001b[0m\u001b[0;34m(\u001b[0m\u001b[0mimg\u001b[0m\u001b[0;34m)\u001b[0m\u001b[0;34m\u001b[0m\u001b[0;34m\u001b[0m\u001b[0m\n\u001b[0m\u001b[1;32m    107\u001b[0m \u001b[0;34m\u001b[0m\u001b[0m\n\u001b[1;32m    108\u001b[0m         \u001b[0;32mif\u001b[0m \u001b[0mself\u001b[0m\u001b[0;34m.\u001b[0m\u001b[0mtarget_transform\u001b[0m \u001b[0;32mis\u001b[0m \u001b[0;32mnot\u001b[0m \u001b[0;32mNone\u001b[0m\u001b[0;34m:\u001b[0m\u001b[0;34m\u001b[0m\u001b[0;34m\u001b[0m\u001b[0m\n",
      "\u001b[0;32m~/miniconda3/envs/ml/lib/python3.8/site-packages/torchvision/transforms/transforms.py\u001b[0m in \u001b[0;36m__call__\u001b[0;34m(self, pic)\u001b[0m\n\u001b[1;32m     95\u001b[0m             \u001b[0mTensor\u001b[0m\u001b[0;34m:\u001b[0m \u001b[0mConverted\u001b[0m \u001b[0mimage\u001b[0m\u001b[0;34m.\u001b[0m\u001b[0;34m\u001b[0m\u001b[0;34m\u001b[0m\u001b[0m\n\u001b[1;32m     96\u001b[0m         \"\"\"\n\u001b[0;32m---> 97\u001b[0;31m         \u001b[0;32mreturn\u001b[0m \u001b[0mF\u001b[0m\u001b[0;34m.\u001b[0m\u001b[0mto_tensor\u001b[0m\u001b[0;34m(\u001b[0m\u001b[0mpic\u001b[0m\u001b[0;34m)\u001b[0m\u001b[0;34m\u001b[0m\u001b[0;34m\u001b[0m\u001b[0m\n\u001b[0m\u001b[1;32m     98\u001b[0m \u001b[0;34m\u001b[0m\u001b[0m\n\u001b[1;32m     99\u001b[0m     \u001b[0;32mdef\u001b[0m \u001b[0m__repr__\u001b[0m\u001b[0;34m(\u001b[0m\u001b[0mself\u001b[0m\u001b[0;34m)\u001b[0m\u001b[0;34m:\u001b[0m\u001b[0;34m\u001b[0m\u001b[0;34m\u001b[0m\u001b[0m\n",
      "\u001b[0;32m~/miniconda3/envs/ml/lib/python3.8/site-packages/torchvision/transforms/functional.py\u001b[0m in \u001b[0;36mto_tensor\u001b[0;34m(pic)\u001b[0m\n\u001b[1;32m    125\u001b[0m \u001b[0;34m\u001b[0m\u001b[0m\n\u001b[1;32m    126\u001b[0m     \u001b[0;31m# handle PIL Image\u001b[0m\u001b[0;34m\u001b[0m\u001b[0;34m\u001b[0m\u001b[0;34m\u001b[0m\u001b[0m\n\u001b[0;32m--> 127\u001b[0;31m     \u001b[0;32mif\u001b[0m \u001b[0mpic\u001b[0m\u001b[0;34m.\u001b[0m\u001b[0mmode\u001b[0m \u001b[0;34m==\u001b[0m \u001b[0;34m'I'\u001b[0m\u001b[0;34m:\u001b[0m\u001b[0;34m\u001b[0m\u001b[0;34m\u001b[0m\u001b[0m\n\u001b[0m\u001b[1;32m    128\u001b[0m         \u001b[0mimg\u001b[0m \u001b[0;34m=\u001b[0m \u001b[0mtorch\u001b[0m\u001b[0;34m.\u001b[0m\u001b[0mfrom_numpy\u001b[0m\u001b[0;34m(\u001b[0m\u001b[0mnp\u001b[0m\u001b[0;34m.\u001b[0m\u001b[0marray\u001b[0m\u001b[0;34m(\u001b[0m\u001b[0mpic\u001b[0m\u001b[0;34m,\u001b[0m \u001b[0mnp\u001b[0m\u001b[0;34m.\u001b[0m\u001b[0mint32\u001b[0m\u001b[0;34m,\u001b[0m \u001b[0mcopy\u001b[0m\u001b[0;34m=\u001b[0m\u001b[0;32mFalse\u001b[0m\u001b[0;34m)\u001b[0m\u001b[0;34m)\u001b[0m\u001b[0;34m\u001b[0m\u001b[0;34m\u001b[0m\u001b[0m\n\u001b[1;32m    129\u001b[0m     \u001b[0;32melif\u001b[0m \u001b[0mpic\u001b[0m\u001b[0;34m.\u001b[0m\u001b[0mmode\u001b[0m \u001b[0;34m==\u001b[0m \u001b[0;34m'I;16'\u001b[0m\u001b[0;34m:\u001b[0m\u001b[0;34m\u001b[0m\u001b[0;34m\u001b[0m\u001b[0m\n",
      "\u001b[0;31mKeyboardInterrupt\u001b[0m: "
     ]
    }
   ],
   "source": [
    "vae = VAE(10)\n",
    "# vae.load_state_dict(torch.load(f'temp_model_epoch11-40'))\n",
    "logger = Logger()\n",
    "logger.set_model_save_location('VAE')\n",
    "seed = 0\n",
    "experiment = f'VAE-seed{seed}-mnist'\n",
    "# logger.set_experiment(experiment)\n",
    "\n",
    "batch_size = 128\n",
    "loader_train = DataLoader(mnist_train, batch_size=batch_size)\n",
    "loader_val = DataLoader(mnist_test, batch_size=batch_size)\n",
    "optimizer = torch.optim.Adam(vae.parameters(), lr=0.0001)\n",
    "\n",
    "np.random.seed(seed)\n",
    "torch.manual_seed(seed)\n",
    "\n",
    "# trained_model, loss_values = train(vae, loader_train, optimizer, loader_val, 30, logger, device, dtype)\n",
    "trained_model, loss_values = train(vae, loader_train, optimizer, loader_val, 50, logger, device, dtype)\n",
    "# from google.colab import files\n",
    "# np.save('losses.npy',loss_values)\n",
    "# torch.save(trained_model.state_dict(),'vae_10_epochs')\n",
    "# files.download('vae_10_epochs') \n",
    "# files.download('losses.npy')"
   ]
  },
  {
   "cell_type": "code",
   "execution_count": 17,
   "id": "5fd5d057",
   "metadata": {
    "id": "5fd5d057"
   },
   "outputs": [
    {
     "data": {
      "text/plain": [
       "<matplotlib.image.AxesImage at 0x7fbbb0c66220>"
      ]
     },
     "execution_count": 17,
     "metadata": {},
     "output_type": "execute_result"
    },
    {
     "data": {
      "image/png": "[encoded data removed]",
      "text/plain": [
       "<Figure size 432x288 with 1 Axes>"
      ]
     },
     "metadata": {
      "needs_background": "light"
     },
     "output_type": "display_data"
    },
    {
     "data": {
      "image/png": "[encoded data removed]",
      "text/plain": [
       "<Figure size 432x288 with 1 Axes>"
      ]
     },
     "metadata": {
      "needs_background": "light"
     },
     "output_type": "display_data"
    }
   ],
   "source": [
    "sample = mnist_train[20][0]\n",
    "plt.imshow(torch.squeeze(sample))\n",
    "plt.figure()\n",
    "mu_hat, sigma_hat, x_hat = trained_model(torch.unsqueeze(sample,0))\n",
    "plt.imshow(torch.squeeze(torch.squeeze(x_hat)).detach())"
   ]
  },
  {
   "cell_type": "code",
   "execution_count": 154,
   "id": "09c5e2bd",
   "metadata": {
    "id": "09c5e2bd"
   },
   "outputs": [
    {
     "data": {
      "text/plain": [
       "<matplotlib.image.AxesImage at 0x7fb4acae0eb0>"
      ]
     },
     "execution_count": 154,
     "metadata": {},
     "output_type": "execute_result"
    },
    {
     "data": {
      "image/png": "[encoded data removed]",
      "text/plain": [
       "<Figure size 432x288 with 1 Axes>"
      ]
     },
     "metadata": {
      "needs_background": "light"
     },
     "output_type": "display_data"
    },
    {
     "data": {
      "image/png": "[encoded data removed]",
      "text/plain": [
       "<Figure size 432x288 with 1 Axes>"
      ]
     },
     "metadata": {
      "needs_background": "light"
     },
     "output_type": "display_data"
    }
   ],
   "source": [
    "sample = mnist_train[9][0]\n",
    "plt.imshow(torch.squeeze(sample))\n",
    "plt.figure()\n",
    "mu_hat, sigma_hat, x_hat = vae(torch.unsqueeze(sample,0))\n",
    "plt.imshow(torch.squeeze(torch.squeeze(x_hat)).detach())"
   ]
  },
  {
   "cell_type": "code",
   "execution_count": 18,
   "id": "86bdd785",
   "metadata": {},
   "outputs": [
    {
     "data": {
      "text/plain": [
       "[<matplotlib.lines.Line2D at 0x7fbbafdebb50>]"
      ]
     },
     "execution_count": 18,
     "metadata": {},
     "output_type": "execute_result"
    },
    {
     "data": {
      "image/png": "[encoded data removed]",
      "text/plain": [
       "<Figure size 432x288 with 1 Axes>"
      ]
     },
     "metadata": {
      "needs_background": "light"
     },
     "output_type": "display_data"
    }
   ],
   "source": [
    "plt.plot(loss_values)"
   ]
  },
  {
   "cell_type": "code",
   "execution_count": 29,
   "id": "ab98a256",
   "metadata": {},
   "outputs": [
    {
     "data": {
      "text/plain": [
       "<All keys matched successfully>"
      ]
     },
     "execution_count": 29,
     "metadata": {},
     "output_type": "execute_result"
    }
   ],
   "source": [
    "vae = VAE(10)\n",
    "vae.load_state_dict(torch.load(f'temp_model_epoch81'))"
   ]
  },
  {
   "cell_type": "code",
   "execution_count": 45,
   "id": "71025d3c",
   "metadata": {
    "scrolled": true
   },
   "outputs": [
    {
     "data": {
      "text/plain": [
       "<matplotlib.image.AxesImage at 0x7fbbb2a72520>"
      ]
     },
     "execution_count": 45,
     "metadata": {},
     "output_type": "execute_result"
    },
    {
     "data": {
      "image/png": "[encoded data removed]",
      "text/plain": [
       "<Figure size 432x288 with 1 Axes>"
      ]
     },
     "metadata": {
      "needs_background": "light"
     },
     "output_type": "display_data"
    }
   ],
   "source": [
    "torch.manual_seed(70)\n",
    "random_sample = vae.decode(torch.rand((1,10)))\n",
    "plt.imshow(torch.squeeze(torch.squeeze(random_sample)).detach())"
   ]
  },
  {
   "cell_type": "code",
   "execution_count": null,
   "id": "a8d4ed31",
   "metadata": {},
   "outputs": [],
   "source": []
  }
 ],
 "metadata": {
  "accelerator": "GPU",
  "colab": {
   "name": "VAE.ipynb",
   "provenance": []
  },
  "gpuClass": "standard",
  "kernelspec": {
   "display_name": "Python 3",
   "language": "python",
   "name": "python3"
  },
  "language_info": {
   "codemirror_mode": {
    "name": "ipython",
    "version": 3
   },
   "file_extension": ".py",
   "mimetype": "text/x-python",
   "name": "python",
   "nbconvert_exporter": "python",
   "pygments_lexer": "ipython3",
   "version": "3.8.2"
  }
 },
 "nbformat": 4,
 "nbformat_minor": 5
}
