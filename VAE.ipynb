{
  "cells": [
    {
      "cell_type": "code",
      "source": [
        "!pip install Pillow --quiet\n",
        "!pip install webdataset==0.1.62\n",
        "!pip install pytorch-model-summary"
      ],
      "metadata": {
        "id": "NB7Va37UmkNm",
        "outputId": "4ccf8a6d-a603-4c6b-aadd-41374ccdfbd3",
        "colab": {
          "base_uri": "https://localhost:8080/"
        }
      },
      "id": "NB7Va37UmkNm",
      "execution_count": 1,
      "outputs": [
        {
          "output_type": "stream",
          "name": "stdout",
          "text": [
            "Looking in indexes: https://pypi.org/simple, https://us-python.pkg.dev/colab-wheels/public/simple/\n",
            "Requirement already satisfied: webdataset==0.1.62 in /usr/local/lib/python3.7/dist-packages (0.1.62)\n",
            "Requirement already satisfied: numpy in /usr/local/lib/python3.7/dist-packages (from webdataset==0.1.62) (1.21.6)\n",
            "Requirement already satisfied: braceexpand in /usr/local/lib/python3.7/dist-packages (from webdataset==0.1.62) (0.1.7)\n",
            "Looking in indexes: https://pypi.org/simple, https://us-python.pkg.dev/colab-wheels/public/simple/\n",
            "Requirement already satisfied: pytorch-model-summary in /usr/local/lib/python3.7/dist-packages (0.1.2)\n",
            "Requirement already satisfied: torch in /usr/local/lib/python3.7/dist-packages (from pytorch-model-summary) (1.12.0+cu113)\n",
            "Requirement already satisfied: tqdm in /usr/local/lib/python3.7/dist-packages (from pytorch-model-summary) (4.64.0)\n",
            "Requirement already satisfied: numpy in /usr/local/lib/python3.7/dist-packages (from pytorch-model-summary) (1.21.6)\n",
            "Requirement already satisfied: typing-extensions in /usr/local/lib/python3.7/dist-packages (from torch->pytorch-model-summary) (4.1.1)\n"
          ]
        }
      ]
    },
    {
      "cell_type": "code",
      "source": [
        "import torch\n",
        "from torch import nn\n",
        "import torch.nn.functional as F\n",
        "import torch.optim as optim\n",
        "from torch.utils.data import DataLoader\n",
        "from torch.utils.data import sampler\n",
        "\n",
        "import torchvision.models as models\n",
        "import torchvision.transforms as T\n",
        "import numpy as np\n",
        "import h5py\n",
        "import os\n",
        "import sys\n",
        "import datetime\n",
        "import csv\n",
        "\n",
        "import torchvision\n",
        "from torchvision import transforms as transforms\n",
        "import matplotlib.pyplot as plt\n",
        "import matplotlib.gridspec as gridspec\n",
        "\n",
        "import logging\n",
        "from torch.utils.tensorboard import SummaryWriter\n",
        "from torch.utils.data import Dataset\n",
        "\n",
        "# For visualize input\n",
        "from torch.utils.tensorboard import SummaryWriter\n",
        "import io\n",
        "import torchvision\n",
        "from torchvision import transforms as transforms\n",
        "import matplotlib.pyplot as plt\n",
        "import matplotlib.gridspec as gridspec\n",
        "import matplotlib.image as mpimg\n",
        "from PIL import Image"
      ],
      "metadata": {
        "id": "Ln1f0NIUdLsL"
      },
      "id": "Ln1f0NIUdLsL",
      "execution_count": 2,
      "outputs": []
    },
    {
      "cell_type": "code",
      "execution_count": 3,
      "id": "mathematical-beginning",
      "metadata": {
        "id": "mathematical-beginning"
      },
      "outputs": [],
      "source": [
        "import webdataset as wds\n",
        "from itertools import islice\n",
        "import struct, ast\n",
        "from importlib_metadata import version"
      ]
    },
    {
      "cell_type": "code",
      "source": [
        "version('webdataset')"
      ],
      "metadata": {
        "id": "fMC2c7mLGIIQ",
        "outputId": "c6727503-e1a1-423d-c350-2a8681b6b10e",
        "colab": {
          "base_uri": "https://localhost:8080/",
          "height": 36
        }
      },
      "id": "fMC2c7mLGIIQ",
      "execution_count": 4,
      "outputs": [
        {
          "output_type": "execute_result",
          "data": {
            "text/plain": [
              "'0.1.62'"
            ],
            "application/vnd.google.colaboratory.intrinsic+json": {
              "type": "string"
            }
          },
          "metadata": {},
          "execution_count": 4
        }
      ]
    },
    {
      "cell_type": "code",
      "execution_count": 5,
      "id": "framed-living",
      "metadata": {
        "id": "framed-living",
        "outputId": "bde5805e-b0f2-48e1-a7ed-80001858185e",
        "colab": {
          "base_uri": "https://localhost:8080/"
        }
      },
      "outputs": [
        {
          "output_type": "stream",
          "name": "stdout",
          "text": [
            "using device: cuda\n"
          ]
        }
      ],
      "source": [
        "class Logger():\n",
        "    def __init__(self, mode='log'):\n",
        "        self.mode = mode\n",
        "        \n",
        "    def set_model_save_location(self, model_dir):\n",
        "        self.model_dir = f\"saved-model/{model_dir}\"\n",
        "        \n",
        "    def set_experiment(self, experiment_name):\n",
        "        self.experiment_name = experiment_name\n",
        "        log_format = '%(asctime)s %(message)s'\n",
        "        logging.basicConfig(stream=sys.stdout, level=logging.INFO,\n",
        "                            format=log_format, datefmt='%m/%d %I:%M:%S %p')\n",
        "        fh = logging.FileHandler(os.path.join('training-logs', f'log-{experiment_name}-{datetime.datetime.today()}.txt'))\n",
        "        fh.setFormatter(logging.Formatter(log_format))\n",
        "        logging.getLogger().addHandler(fh)\n",
        "        self.writer = SummaryWriter(f\"runs/{experiment_name}\")\n",
        "            \n",
        "    def log(self, message=\"\"):\n",
        "        if self.mode == 'log':\n",
        "            logging.info(message)\n",
        "        elif self.mode == 'debug':\n",
        "            print(message)\n",
        "\n",
        "    def save_model(self, model, info):\n",
        "        torch.save(model.state_dict(), f\"{self.model_dir}/model-{self.experiment_name}-{info}\")\n",
        "        \n",
        "USE_GPU = True\n",
        "\n",
        "dtype = torch.float32 # we will be using float throughout this tutorial\n",
        "\n",
        "if USE_GPU and torch.cuda.is_available():\n",
        "    device = torch.device('cuda')\n",
        "else:\n",
        "    device = torch.device('cpu')\n",
        "\n",
        "# Constant to control how frequently we print train loss\n",
        "print_every = 100\n",
        "\n",
        "print('using device:', device)\n",
        "\n",
        "def add_chan_dim(x):\n",
        "    x = torch.tensor(x)\n",
        "#     x = torch.transpose(x, 0, 1)\n",
        "    return torch.unsqueeze(x,0)\n",
        "\n",
        "\n",
        "def selectLabel(x,lbl):\n",
        "    # # function to select desired label\n",
        "    lbl_idx = [\"id\",\"sex\",\"age\",\"handedness\",\"index\"].index(lbl.lower())\n",
        "    x = x.decode(\"utf-8\").split(\",\")\n",
        "    # return x if lbl_idx == 0 else float(x)\n",
        "    return 1\n",
        "    \n",
        "s3_url = 'https://childmind.s3.us-west-1.amazonaws.com/python/childmind_train.tar' # replace 'train' with 'val' and 'test' accordingly\n",
        "train_data = wds.WebDataset(s3_url).decode().map_dict(npy=add_chan_dim, cls=lambda x: selectLabel(x,'sex')).to_tuple(\"npy\",\"cls\")\n",
        "\n",
        "s3_url = 'https://childmind.s3.us-west-1.amazonaws.com/python/childmind_val.tar' # replace 'train' with 'val' and 'test' accordingly\n",
        "val_data = wds.WebDataset(s3_url).decode().map_dict(npy=add_chan_dim, cls=lambda x: selectLabel(x,'sex')).to_tuple(\"npy\",\"cls\")"
      ]
    },
    {
      "cell_type": "code",
      "execution_count": 11,
      "id": "ignored-eagle",
      "metadata": {
        "id": "ignored-eagle"
      },
      "outputs": [],
      "source": [
        "class VAE(nn.Module): \n",
        "    \n",
        "    def __init__(self, latent_dim):\n",
        "        # latent_dim: dimension of the latent representation vector\n",
        "        super().__init__()\n",
        "        self.latent_dim = latent_dim\n",
        "        self.beta = 4\n",
        "        self.gamma = 1000.\n",
        "        self.loss_type = 'H'\n",
        "        self.C_max = torch.tensor([25])\n",
        "        self.C_stop_iter = 1e5\n",
        "\n",
        "        encoder_l = [self.encoder_conv_block(True)]\n",
        "        for i in range(2):\n",
        "            encoder_l.append(self.encoder_conv_block())\n",
        "        encoder_l.append(self.encoder_conv_block(False, 32, 32, 3, 1, 0))\n",
        "        encoder_l.append(nn.Flatten())\n",
        "        self.encoder_before_last = nn.ModuleList(encoder_l)\n",
        "        self.encoder_mu = self.encoder_linear_block(960, latent_dim)\n",
        "        self.encoder_log_var = self.encoder_linear_block(960, latent_dim)\n",
        "                            \n",
        "        decoder_l = [self.decoder_linear_block(latent_dim, 960)]\n",
        "        decoder_l.append(self.decoder_conv_block(False, 32, 32, 3, 1, 0))\n",
        "        for i in range(2):\n",
        "            decoder_l.append(self.decoder_conv_block())\n",
        "        decoder_l.append(self.decoder_conv_block(True))\n",
        "        self.decoder = nn.ModuleList(decoder_l)\n",
        "    \n",
        "    def encoder_conv_block(self, is_start=False, in_channels=32, out_channels=32, kernel_size=6, stride=2, padding=2):\n",
        "        if is_start:\n",
        "            return nn.Sequential(\n",
        "                nn.Conv2d(1, out_channels, kernel_size, stride, padding),\n",
        "                nn.BatchNorm2d(out_channels),\n",
        "                nn.LeakyReLU()\n",
        "            )\n",
        "        else:\n",
        "            return nn.Sequential(\n",
        "                nn.Conv2d(in_channels, out_channels, kernel_size, stride, padding),\n",
        "                nn.BatchNorm2d(out_channels),\n",
        "                nn.LeakyReLU()\n",
        "            )\n",
        "    def encoder_linear_block(self, in_chan, out_chan):\n",
        "        return nn.Sequential(\n",
        "            nn.Linear(in_chan, out_chan)\n",
        "        )\n",
        "    \n",
        "    def decoder_conv_block(self, is_last=False, in_channels=32, out_channels=32, kernel_size=6, stride=2, padding=2):\n",
        "        if is_last:\n",
        "            return nn.Sequential(\n",
        "                nn.ConvTranspose2d(in_channels, 1, kernel_size, stride, padding),\n",
        "                nn.BatchNorm2d(1),\n",
        "                nn.LeakyReLU()\n",
        "            )\n",
        "        else:\n",
        "            return nn.Sequential(\n",
        "                nn.ConvTranspose2d(in_channels, out_channels, kernel_size, stride, padding),\n",
        "                nn.BatchNorm2d(out_channels),\n",
        "                nn.LeakyReLU()\n",
        "            )\n",
        "    \n",
        "    def decoder_linear_block(self, in_chan, out_chan):\n",
        "        return nn.Sequential(\n",
        "            nn.Linear(in_chan, out_chan),\n",
        "            nn.ReLU()\n",
        "        )\n",
        "    \n",
        "    def forward(self, x):\n",
        "        for f in self.encoder_before_last:\n",
        "            x = f(x)\n",
        "\n",
        "        mu = self.encoder_mu(x)\n",
        "        log_var = self.encoder_log_var(x)\n",
        "\n",
        "        z = self.reparameterize(mu, log_var)\n",
        "        \n",
        "        x = self.decoder[0](z)\n",
        "        x = x.view(-1, 32, 1, 30) # reshape the tensor to be expected dimension for ConvTranspose\n",
        "        for i in range(1,len(self.decoder)):\n",
        "            f = self.decoder[i]\n",
        "            x = f(x) \n",
        "            \n",
        "        return x, mu, log_var\n",
        "    \n",
        "    def reparameterize(self, mu, log_var):\n",
        "        \"\"\"\n",
        "        :param mu: mean from the encoder's latent space\n",
        "        :param log_var: log variance from the encoder's latent space\n",
        "        \"\"\"\n",
        "        std = torch.exp(0.5*log_var) # standard deviation\n",
        "        eps = torch.randn_like(std) # `randn_like` as we need the same size\n",
        "        sample = mu + (eps * std) # sampling\n",
        "        return sample\n",
        "\n",
        "    def sample_z(self, mu, sigma):\n",
        "        # Input\n",
        "        #     mu:     [batch_size, self.latent_size] the predicted mu value for each sample in the batch\n",
        "        #     sigma:  [batch_size, self.latent_size] the predicted diag elem of sigma value for each sample in the batch\n",
        "        # Output\n",
        "        #     z: [batch_size, self.latent_size] the latent representation of each sample in the batch\n",
        "        # Reference: https://agustinus.kristia.de/techblog/2016/12/10/variational-autoencoder/\n",
        "        \n",
        "        # eps ~ N(0,1)        \n",
        "        batch_size = mu.size()[0]\n",
        "        eps = torch.randn((batch_size,1), device=device, dtype=dtype)\n",
        "        z = mu + sigma/2*eps\n",
        "        \n",
        "        return z\n",
        "\n",
        "    def loss_function(self,\n",
        "                      *args,\n",
        "                      **kwargs) -> dict:\n",
        "        recons = args[0]\n",
        "        input = args[1]\n",
        "        mu = args[2]\n",
        "        log_var = args[3]\n",
        "        kld_weight = kwargs['M_N']  # Account for the minibatch samples from the dataset\n",
        "\n",
        "        recons_loss =F.mse_loss(recons, input)\n",
        "\n",
        "        kld_loss = torch.mean(-0.5 * torch.sum(1 + log_var - mu ** 2 - log_var.exp(), dim = 1), dim = 0)\n",
        "\n",
        "        if self.loss_type == 'H': # https://openreview.net/forum?id=Sy2fzU9gl\n",
        "            loss = recons_loss + self.beta * kld_weight * kld_loss\n",
        "        elif self.loss_type == 'B': # https://arxiv.org/pdf/1804.03599.pdf\n",
        "            self.C_max = self.C_max.to(input.device)\n",
        "            C = torch.clamp(self.C_max/self.C_stop_iter * self.num_iter, 0, self.C_max.data[0])\n",
        "            loss = recons_loss + self.gamma * kld_weight* (kld_loss - C).abs()\n",
        "        else:\n",
        "            raise ValueError('Undefined loss type.')\n",
        "\n",
        "        return {'loss': loss, 'Reconstruction_Loss':recons_loss, 'KLD':kld_loss}        "
      ]
    },
    {
      "cell_type": "code",
      "execution_count": 12,
      "id": "c39cb173",
      "metadata": {
        "scrolled": false,
        "id": "c39cb173",
        "outputId": "e4f64788-2b81-4cbb-ff8d-174f96633bd0",
        "colab": {
          "base_uri": "https://localhost:8080/"
        }
      },
      "outputs": [
        {
          "output_type": "stream",
          "name": "stdout",
          "text": [
            "---------------------------------------------------------------------------\n",
            "         Layer (type)         Output Shape         Param #     Tr. Param #\n",
            "===========================================================================\n",
            "             Conv2d-1     [1, 32, 12, 128]           1,184           1,184\n",
            "        BatchNorm2d-2     [1, 32, 12, 128]              64              64\n",
            "          LeakyReLU-3     [1, 32, 12, 128]               0               0\n",
            "             Conv2d-4       [1, 32, 6, 64]          36,896          36,896\n",
            "        BatchNorm2d-5       [1, 32, 6, 64]              64              64\n",
            "          LeakyReLU-6       [1, 32, 6, 64]               0               0\n",
            "             Conv2d-7       [1, 32, 3, 32]          36,896          36,896\n",
            "        BatchNorm2d-8       [1, 32, 3, 32]              64              64\n",
            "          LeakyReLU-9       [1, 32, 3, 32]               0               0\n",
            "            Conv2d-10       [1, 32, 1, 30]           9,248           9,248\n",
            "       BatchNorm2d-11       [1, 32, 1, 30]              64              64\n",
            "         LeakyReLU-12       [1, 32, 1, 30]               0               0\n",
            "           Flatten-13             [1, 960]               0               0\n",
            "            Linear-14              [1, 10]           9,610           9,610\n",
            "            Linear-15              [1, 10]           9,610           9,610\n",
            "            Linear-16             [1, 960]          10,560          10,560\n",
            "              ReLU-17             [1, 960]               0               0\n",
            "   ConvTranspose2d-18       [1, 32, 3, 32]           9,248           9,248\n",
            "       BatchNorm2d-19       [1, 32, 3, 32]              64              64\n",
            "         LeakyReLU-20       [1, 32, 3, 32]               0               0\n",
            "   ConvTranspose2d-21       [1, 32, 6, 64]          36,896          36,896\n",
            "       BatchNorm2d-22       [1, 32, 6, 64]              64              64\n",
            "         LeakyReLU-23       [1, 32, 6, 64]               0               0\n",
            "   ConvTranspose2d-24     [1, 32, 12, 128]          36,896          36,896\n",
            "       BatchNorm2d-25     [1, 32, 12, 128]              64              64\n",
            "         LeakyReLU-26     [1, 32, 12, 128]               0               0\n",
            "   ConvTranspose2d-27      [1, 1, 24, 256]           1,153           1,153\n",
            "       BatchNorm2d-28      [1, 1, 24, 256]               2               2\n",
            "         LeakyReLU-29      [1, 1, 24, 256]               0               0\n",
            "===========================================================================\n",
            "Total params: 198,647\n",
            "Trainable params: 198,647\n",
            "Non-trainable params: 0\n",
            "---------------------------------------------------------------------------\n"
          ]
        }
      ],
      "source": [
        "class ToCorrectSizeTensor(object):\n",
        "    \"\"\"Convert ndarrays in sample to Tensors.\"\"\"\n",
        "\n",
        "    def __call__(self, sample):\n",
        "        # swap color axis because\n",
        "        # numpy image: H x W x C\n",
        "        # torch image: C x H x W\n",
        "        correct_size_sample = torch.zeros(1,24,256)\n",
        "        correct_size_sample[0,:,0:28] = sample[0,2:26,:]\n",
        "        return correct_size_sample\n",
        "\n",
        "vae = VAE(10)\n",
        "vae = vae.to(device=device)\n",
        "# mnist_train = torchvision.datasets.MNIST('./mnist', train=True, download=True, transform = transforms.Compose([transforms.ToTensor(),ToCorrectSizeTensor()]))\n",
        "# mnist_test = torchvision.datasets.MNIST('./mnist', train=False, download=True, transform = transforms.Compose([transforms.ToTensor(), ToCorrectSizeTensor()]))\n",
        "# sample = torch.unsqueeze(mnist_train[0][0],0)\n",
        "# sample = sample.to(device=device)\n",
        "\n",
        "from pytorch_model_summary import summary\n",
        "# print(summary(vae, sample, show_input=False)) \n",
        "print(summary(vae, torch.zeros((1, 1, 24, 256), device=device), show_input=False))"
      ]
    },
    {
      "cell_type": "markdown",
      "id": "9d6724f9",
      "metadata": {
        "id": "9d6724f9"
      },
      "source": [
        "KL divergence loss\n",
        "![kl_loss](https://github.com/dungscout96/deep-representation-learning-EEG/blob/master/images/kl_loss.png?raw=1)"
      ]
    },
    {
      "cell_type": "code",
      "execution_count": 13,
      "id": "48aa32b1",
      "metadata": {
        "id": "48aa32b1"
      },
      "outputs": [],
      "source": [
        "# def beta_vae_loss(mu_hat, sigma_hat, x_hat, x_target):\n",
        "#     likelihood_loss = F.mse_loss(x_hat, x_target)\n",
        "#     kl_loss = 0.5 * torch.sum(torch.exp(sigma_hat) + torch.pow(mu_hat,2) - torch.ones((1,mu_hat.size()[1]), device=device, dtype=dtype) - mu_hat, axis=1)\n",
        "#     return torch.mean(likelihood_loss + kl_loss) # average the loss of batch\n",
        "\n",
        "def train(model, loader_train, optimizer, loader_val, epochs, logger, device, dtype):\n",
        "    \"\"\" \n",
        "    Inputs:\n",
        "    - model: A PyTorch Module giving the model to train.\n",
        "    - optimizer: An Optimizer object we will use to train the model\n",
        "    - epochs: (Optional) A Python integer giving the number of epochs to train for\n",
        "    - logger: Logger object for logging purpose\n",
        "    Returns: Nothing, but prints model accuracies during training.\n",
        "    \"\"\"\n",
        "    loss_array = []\n",
        "    num_batch = 0\n",
        "    model = model.to(device=device)  # move the model parameters to CPU/GPU\n",
        "    print('Begin trainning...')\n",
        "    for e in range(epochs):\n",
        "        for t, (x, y) in enumerate(loader_train):\n",
        "            if e == 0:\n",
        "                num_batch += 1\n",
        "            model.train()  # put model to training mode\n",
        "            x = x.to(device=device, dtype=dtype)  # move to device, e.g. GPU\n",
        "            # mu_hat, sigma_hat, x_hat = model(x)\n",
        "            \n",
        "            # loss = beta_vae_loss(mu_hat, sigma_hat, x_hat, x)\n",
        "            \n",
        "            x_hat, mu_hat, sigma_hat = model(x)\n",
        "            \n",
        "            loss_dict = model.loss_function(x_hat, x, mu_hat, sigma_hat,M_N=1)\n",
        "            loss = loss_dict[\"loss\"]\n",
        "\n",
        "            optimizer.zero_grad()\n",
        "            loss.backward()\n",
        "            optimizer.step()\n",
        "            loss_array.append(loss.item())\n",
        "            if t % 100 == 0:\n",
        "                # logger.writer.add_scalar(\"Loss/train\", loss.item(), e*num_batch+t)\n",
        "                # logger.log('Epoch %d, Iteration %d, loss = %.4f' % (e, t, loss.item()))\n",
        "                print(f'Epoch {e}, Iteration {t}, loss = {loss.item()}')\n",
        "#         train_acc = check_accuracy(loader_train, 'train', model, device, dtype, logger)\n",
        "#         logger.writer.add_scalar(\"Acc/train\", train_acc, e)        \n",
        "        # get validation loss\n",
        "#         model.eval()\n",
        "#         val_loss = check_accuracy(loader_val, 'val', model, device, dtype, logger)\n",
        "#         logger.writer.add_scalar(\"Acc/valid\", val_acc, e)        \n",
        "#         logger.log()\n",
        "        \n",
        "        # Save model per fixed epoch interval\n",
        "        # if e > 0 and e % 10 == 0:\n",
        "        #     logger.save_model(model,f\"epoch{e}\")\n",
        "#         elif val_acc >= 0.83:\n",
        "#             logger.save_model(model,f\"valacc83-epoch{e}\")\n",
        "#         elif val_acc >= 0.84:\n",
        "#             logger.save_model(model,f\"valacc84-epoch{e}\")\n",
        "    # save final model\n",
        "    # logger.save_model(model,f\"epoch{e}\")\n",
        "    return model, loss_array"
      ]
    },
    {
      "cell_type": "code",
      "execution_count": 18,
      "id": "54ec2618",
      "metadata": {
        "id": "54ec2618",
        "outputId": "c197bb05-d769-4c4f-a52b-5e803ecb9c04",
        "colab": {
          "base_uri": "https://localhost:8080/",
          "height": 585
        }
      },
      "outputs": [
        {
          "output_type": "stream",
          "name": "stdout",
          "text": [
            "Begin trainning...\n",
            "Epoch 0, Iteration 0, loss = 2235.8779296875\n",
            "Epoch 0, Iteration 100, loss = 472.8282165527344\n",
            "Epoch 0, Iteration 200, loss = 3559.554931640625\n",
            "Epoch 1, Iteration 0, loss = 2234.187255859375\n",
            "Epoch 1, Iteration 100, loss = 472.5002136230469\n",
            "Epoch 1, Iteration 200, loss = 3559.206298828125\n",
            "Epoch 2, Iteration 0, loss = 2234.0\n",
            "Epoch 2, Iteration 100, loss = 472.40863037109375\n",
            "Epoch 2, Iteration 200, loss = 3559.112548828125\n",
            "Epoch 3, Iteration 0, loss = 2233.8232421875\n",
            "Epoch 3, Iteration 100, loss = 472.2935485839844\n",
            "Epoch 3, Iteration 200, loss = 3558.920654296875\n",
            "Epoch 4, Iteration 0, loss = 2233.4970703125\n",
            "Epoch 4, Iteration 100, loss = 472.2217712402344\n",
            "Epoch 4, Iteration 200, loss = 3558.84326171875\n",
            "Epoch 5, Iteration 0, loss = 2233.56396484375\n",
            "Epoch 5, Iteration 100, loss = 472.1435241699219\n",
            "Epoch 5, Iteration 200, loss = 3558.7275390625\n",
            "Epoch 6, Iteration 0, loss = 2233.45556640625\n",
            "Epoch 6, Iteration 100, loss = 472.1318359375\n",
            "Epoch 6, Iteration 200, loss = 3558.728515625\n",
            "Epoch 7, Iteration 0, loss = 2233.279296875\n",
            "Epoch 7, Iteration 100, loss = 472.0150451660156\n",
            "Epoch 7, Iteration 200, loss = 3558.727783203125\n",
            "Epoch 8, Iteration 0, loss = 2232.684814453125\n",
            "Epoch 8, Iteration 100, loss = 472.2129821777344\n",
            "Epoch 8, Iteration 200, loss = 3559.46923828125\n",
            "Epoch 9, Iteration 0, loss = 2233.16650390625\n",
            "Epoch 9, Iteration 100, loss = 472.3148193359375\n",
            "Epoch 9, Iteration 200, loss = 3558.699951171875\n"
          ]
        },
        {
          "output_type": "display_data",
          "data": {
            "text/plain": [
              "<IPython.core.display.Javascript object>"
            ],
            "application/javascript": [
              "\n",
              "    async function download(id, filename, size) {\n",
              "      if (!google.colab.kernel.accessAllowed) {\n",
              "        return;\n",
              "      }\n",
              "      const div = document.createElement('div');\n",
              "      const label = document.createElement('label');\n",
              "      label.textContent = `Downloading \"${filename}\": `;\n",
              "      div.appendChild(label);\n",
              "      const progress = document.createElement('progress');\n",
              "      progress.max = size;\n",
              "      div.appendChild(progress);\n",
              "      document.body.appendChild(div);\n",
              "\n",
              "      const buffers = [];\n",
              "      let downloaded = 0;\n",
              "\n",
              "      const channel = await google.colab.kernel.comms.open(id);\n",
              "      // Send a message to notify the kernel that we're ready.\n",
              "      channel.send({})\n",
              "\n",
              "      for await (const message of channel.messages) {\n",
              "        // Send a message to notify the kernel that we're ready.\n",
              "        channel.send({})\n",
              "        if (message.buffers) {\n",
              "          for (const buffer of message.buffers) {\n",
              "            buffers.push(buffer);\n",
              "            downloaded += buffer.byteLength;\n",
              "            progress.value = downloaded;\n",
              "          }\n",
              "        }\n",
              "      }\n",
              "      const blob = new Blob(buffers, {type: 'application/binary'});\n",
              "      const a = document.createElement('a');\n",
              "      a.href = window.URL.createObjectURL(blob);\n",
              "      a.download = filename;\n",
              "      div.appendChild(a);\n",
              "      a.click();\n",
              "      div.remove();\n",
              "    }\n",
              "  "
            ]
          },
          "metadata": {}
        },
        {
          "output_type": "display_data",
          "data": {
            "text/plain": [
              "<IPython.core.display.Javascript object>"
            ],
            "application/javascript": [
              "download(\"download_b289cf46-6e7d-4232-a363-aeaacd86122e\", \"vae_10_epochs\", 816683)"
            ]
          },
          "metadata": {}
        },
        {
          "output_type": "display_data",
          "data": {
            "text/plain": [
              "<IPython.core.display.Javascript object>"
            ],
            "application/javascript": [
              "\n",
              "    async function download(id, filename, size) {\n",
              "      if (!google.colab.kernel.accessAllowed) {\n",
              "        return;\n",
              "      }\n",
              "      const div = document.createElement('div');\n",
              "      const label = document.createElement('label');\n",
              "      label.textContent = `Downloading \"${filename}\": `;\n",
              "      div.appendChild(label);\n",
              "      const progress = document.createElement('progress');\n",
              "      progress.max = size;\n",
              "      div.appendChild(progress);\n",
              "      document.body.appendChild(div);\n",
              "\n",
              "      const buffers = [];\n",
              "      let downloaded = 0;\n",
              "\n",
              "      const channel = await google.colab.kernel.comms.open(id);\n",
              "      // Send a message to notify the kernel that we're ready.\n",
              "      channel.send({})\n",
              "\n",
              "      for await (const message of channel.messages) {\n",
              "        // Send a message to notify the kernel that we're ready.\n",
              "        channel.send({})\n",
              "        if (message.buffers) {\n",
              "          for (const buffer of message.buffers) {\n",
              "            buffers.push(buffer);\n",
              "            downloaded += buffer.byteLength;\n",
              "            progress.value = downloaded;\n",
              "          }\n",
              "        }\n",
              "      }\n",
              "      const blob = new Blob(buffers, {type: 'application/binary'});\n",
              "      const a = document.createElement('a');\n",
              "      a.href = window.URL.createObjectURL(blob);\n",
              "      a.download = filename;\n",
              "      div.appendChild(a);\n",
              "      a.click();\n",
              "      div.remove();\n",
              "    }\n",
              "  "
            ]
          },
          "metadata": {}
        },
        {
          "output_type": "display_data",
          "data": {
            "text/plain": [
              "<IPython.core.display.Javascript object>"
            ],
            "application/javascript": [
              "download(\"download_fb434610-064a-4469-9b7c-3fe067541821\", \"losses.npy\", 22368)"
            ]
          },
          "metadata": {}
        }
      ],
      "source": [
        "vae = VAE(10)\n",
        "logger = Logger()\n",
        "logger.set_model_save_location('VAE')\n",
        "seed = 0\n",
        "experiment = f'VAE-seed{seed}'\n",
        "# logger.set_experiment(experiment)\n",
        "\n",
        "# use mnist to test\n",
        "\n",
        "batch_size = 256\n",
        "loader_train = DataLoader(train_data, batch_size=batch_size)\n",
        "loader_val = DataLoader(val_data, batch_size=batch_size)\n",
        "# loader_train = DataLoader(mnist_train, batch_size=batch_size)\n",
        "# loader_val = DataLoader(mnist_test, batch_size=batch_size)\n",
        "optimizer = torch.optim.Adam(vae.parameters(), lr=0.00001)\n",
        "\n",
        "np.random.seed(seed)\n",
        "torch.manual_seed(seed)\n",
        "\n",
        "trained_model, loss_values = train(vae, loader_train, optimizer, loader_val, 10, logger, device, dtype)\n",
        "\n",
        "from google.colab import files\n",
        "np.save('losses.npy',loss_values)\n",
        "torch.save(trained_model.state_dict(),'vae_10_epochs')\n",
        "files.download('vae_10_epochs') \n",
        "files.download('losses.npy')"
      ]
    },
    {
      "cell_type": "code",
      "execution_count": 10,
      "id": "5fd5d057",
      "metadata": {
        "id": "5fd5d057",
        "outputId": "9bcd5906-e271-4522-a149-a727946730f0",
        "colab": {
          "base_uri": "https://localhost:8080/"
        }
      },
      "outputs": [
        {
          "output_type": "stream",
          "name": "stdout",
          "text": [
            "32.0\n",
            "30.0\n"
          ]
        }
      ],
      "source": [
        "def out_W(W, F, P, S):\n",
        "    return np.floor((W - F + 2*P)/S + 1)\n",
        "\n",
        "W = 256\n",
        "for i in range(3):\n",
        "    W = out_W(W, 6, 2, 2)\n",
        "\n",
        "print(W)\n",
        "print(out_W(W, 3, 0, 1))"
      ]
    },
    {
      "cell_type": "code",
      "execution_count": 17,
      "id": "09c5e2bd",
      "metadata": {
        "id": "09c5e2bd",
        "outputId": "d7724e26-8cfb-446b-d6c5-9bb309344683",
        "colab": {
          "base_uri": "https://localhost:8080/",
          "height": 294
        }
      },
      "outputs": [
        {
          "output_type": "execute_result",
          "data": {
            "text/plain": [
              "[<matplotlib.lines.Line2D at 0x7f039fe88cd0>]"
            ]
          },
          "metadata": {},
          "execution_count": 17
        },
        {
          "output_type": "display_data",
          "data": {
            "text/plain": [
              "<Figure size 432x288 with 1 Axes>"
            ],
            "image/png": "[encoded data removed]"
          },
          "metadata": {
            "needs_background": "light"
          }
        }
      ],
      "source": [
        "plt.plot(loss_values)"
      ]
    },
    {
      "cell_type": "code",
      "source": [
        ""
      ],
      "metadata": {
        "id": "rRxXAQF60PNB"
      },
      "id": "rRxXAQF60PNB",
      "execution_count": null,
      "outputs": []
    }
  ],
  "metadata": {
    "kernelspec": {
      "display_name": "Python 3",
      "language": "python",
      "name": "python3"
    },
    "language_info": {
      "codemirror_mode": {
        "name": "ipython",
        "version": 3
      },
      "file_extension": ".py",
      "mimetype": "text/x-python",
      "name": "python",
      "nbconvert_exporter": "python",
      "pygments_lexer": "ipython3",
      "version": "3.8.2"
    },
    "colab": {
      "name": "VAE.ipynb",
      "provenance": []
    },
    "accelerator": "GPU",
    "gpuClass": "standard"
  },
  "nbformat": 4,
  "nbformat_minor": 5
}