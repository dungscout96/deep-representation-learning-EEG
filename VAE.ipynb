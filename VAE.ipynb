{
 "cells": [
  {
   "cell_type": "code",
   "execution_count": 2,
   "id": "mathematical-beginning",
   "metadata": {},
   "outputs": [],
   "source": [
    "import torch\n",
    "from torch import nn\n",
    "import webdataset as wds"
   ]
  },
  {
   "cell_type": "code",
   "execution_count": 3,
   "id": "framed-living",
   "metadata": {},
   "outputs": [],
   "source": [
    "def selectLabel(x,lbl):\n",
    "    # function to select desired label\n",
    "    lbl_idx = [\"id\",\"sex\",\"age\",\"handedness\",\"index\"].index(lbl.lower())\n",
    "    x = x.decode(\"utf-8\").split(\",\")[lbl_idx]\n",
    "    return x if lbl_idx == 0 else float(x)\n",
    "\n",
    "def add_chan_dim(x):\n",
    "    x = torch.tensor(x)\n",
    "#     x = torch.transpose(x, 0, 1)\n",
    "    return torch.unsqueeze(x,0)"
   ]
  },
  {
   "cell_type": "code",
   "execution_count": 4,
   "id": "violent-metro",
   "metadata": {},
   "outputs": [],
   "source": [
    "s3_url = 'https://childmind.s3.us-west-1.amazonaws.com/python/childmind_train.tar' # replace 'train' with 'val' and 'test' accordingly\n",
    "train_data = wds.WebDataset(s3_url).decode().map_dict(npy=add_chan_dim, cls=lambda x: selectLabel(x,'sex')).to_tuple(\"npy\",\"cls\")\n",
    "\n",
    "s3_url = 'https://childmind.s3.us-west-1.amazonaws.com/python/childmind_val.tar' # replace 'train' with 'val' and 'test' accordingly\n",
    "val_data = wds.WebDataset(s3_url).decode().map_dict(npy=add_chan_dim, cls=lambda x: selectLabel(x,'sex')).to_tuple(\"npy\",\"cls\")"
   ]
  },
  {
   "cell_type": "code",
   "execution_count": null,
   "id": "ignored-eagle",
   "metadata": {},
   "outputs": [],
   "source": [
    "class VAE(nn.module): \n",
    "    def init(self):\n",
    "        self.encoder = self.encoder()\n",
    "        self.decoder = self.decoder()\n",
    "    \n",
    "    def encoder():\n",
    "        \n",
    "    "
   ]
  }
 ],
 "metadata": {
  "kernelspec": {
   "display_name": "Python 3",
   "language": "python",
   "name": "python3"
  },
  "language_info": {
   "codemirror_mode": {
    "name": "ipython",
    "version": 3
   },
   "file_extension": ".py",
   "mimetype": "text/x-python",
   "name": "python",
   "nbconvert_exporter": "python",
   "pygments_lexer": "ipython3",
   "version": "3.7.7"
  }
 },
 "nbformat": 4,
 "nbformat_minor": 5
}
