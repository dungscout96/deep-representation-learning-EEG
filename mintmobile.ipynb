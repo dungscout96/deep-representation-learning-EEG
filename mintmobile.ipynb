{
 "cells": [
  {
   "cell_type": "markdown",
   "id": "laughing-pavilion",
   "metadata": {},
   "source": [
    "# This is an analysis of what could be Mint Mobile's pricing scheme\n",
    "It starts from an observation that for the 10GB plan, which is the plan I'm currently on, the price of the months increase (the monthly gap price) is lower than the plan's current monthly price.\n",
    "If the monthly gap price is the actual business cost of that plan, then mint is making a profit.\n",
    "It made me wonder how much of a profit there is and what is the logic of the pricing scheme, starting with the 3-month plan for each data package."
   ]
  },
  {
   "cell_type": "code",
   "execution_count": 1,
   "id": "welsh-broadcast",
   "metadata": {},
   "outputs": [],
   "source": [
    "import numpy as np"
   ]
  },
  {
   "cell_type": "markdown",
   "id": "sweet-upset",
   "metadata": {},
   "source": [
    "## We start with our data from mint app:"
   ]
  },
  {
   "cell_type": "code",
   "execution_count": 95,
   "id": "polished-garage",
   "metadata": {},
   "outputs": [
    {
     "name": "stdout",
     "output_type": "stream",
     "text": [
      "Current total prices (month x package):\n",
      " [[ 75 105 135 120]\n",
      " [120 150 210 210]\n",
      " [180 240 300 360]]\n",
      "Current monthly prices (month x package):\n",
      " [[25. 35. 45. 40.]\n",
      " [20. 25. 35. 35.]\n",
      " [15. 20. 25. 30.]]\n"
     ]
    }
   ],
   "source": [
    "# our data:         4gb 10gb 25gb unltd\n",
    "prices = np.array([[75, 105, 135, 120], # 3 monnths\n",
    "                   [120, 150, 210, 210],# 6 months \n",
    "                   [180, 240, 300, 360]]) # 12 months\n",
    "print(\"Current total prices (month x package):\\n\",prices)\n",
    "prices_per_month = prices/np.array([[3],[6],[12]])\n",
    "print(\"Current monthly prices (month x package):\\n\",prices_per_month)"
   ]
  },
  {
   "cell_type": "markdown",
   "id": "satellite-cowboy",
   "metadata": {},
   "source": [
    "## We then calculate the monthly gap prices\n",
    "We subtract the 6-month and 12-month plans' total prices from that of 3-month for each data package\n",
    "The monthly gap price is the the difference divided by how many months in the gap between the plans. The gap between 6- and 3-month planse are 3 months, between 12- and 3- are 9 months."
   ]
  },
  {
   "cell_type": "code",
   "execution_count": 106,
   "id": "micro-frontier",
   "metadata": {},
   "outputs": [
    {
     "name": "stdout",
     "output_type": "stream",
     "text": [
      "Monthly gap price:\n",
      " [[15.         15.         25.         30.        ]\n",
      " [11.66666667 15.         18.33333333 26.66666667]]\n"
     ]
    }
   ],
   "source": [
    "actual_monthly = (prices[1:3]-prices[0])/np.array([[3],[9]])\n",
    "print(\"Monthly gap price:\\n\", actual_monthly)"
   ]
  },
  {
   "cell_type": "markdown",
   "id": "broken-spotlight",
   "metadata": {},
   "source": [
    "## If monthly gap price is the actual price for each month of the entire plan...\n",
    "... then the profit Mint is earning per plan per data package would be the difference between the prices under current monthly pricing and what would have been under the monthly gap prices.\n",
    "\n",
    "Since we use the gap price from initial 3-month plan, the profits are calculated for the 6-month and 12-month plans"
   ]
  },
  {
   "cell_type": "code",
   "execution_count": 111,
   "id": "prepared-generation",
   "metadata": {},
   "outputs": [
    {
     "name": "stdout",
     "output_type": "stream",
     "text": [
      "Current profit for 6- and 12-month plans for all 4 data packages:\n",
      "6-month plan profit  ($): [30. 60. 60. 30.]\n",
      "12-month plan profit ($): [40. 60. 80. 40.]\n"
     ]
    }
   ],
   "source": [
    "current_profit = prices[1:3] - actual_monthly*np.reshape([6,12],(2,1)) # assuming that this is the actual price\n",
    "                                                                        # for all months of a plan\n",
    "print(\"Current profit for 6- and 12-month plans for all 4 data packages:\")\n",
    "print(\"6-month plan profit  ($):\", current_profit[0])\n",
    "print(\"12-month plan profit ($):\", current_profit[1])"
   ]
  },
  {
   "cell_type": "markdown",
   "id": "intellectual-writer",
   "metadata": {},
   "source": [
    "## We can then derive how the initial 3-month plan price is set\n",
    "Using the profits and assumed original monthly prices calculated above, we reverse engineer the total prices and the price of the 3-month plan.\n",
    "\n",
    "Mint must set a total price that takes into account the actual cost and the desired profit. \n",
    "The three month bears all the price differences, so the desired profit must be divided by three to get the target monthly gap.\n",
    "\n",
    "Thus the target monthly price for the 3-month plan would be the actual monthly price plus the target monthly gap.\n",
    "\n",
    "We use the 10GB plan as an example."
   ]
  },
  {
   "cell_type": "code",
   "execution_count": 109,
   "id": "controlled-discharge",
   "metadata": {},
   "outputs": [
    {
     "name": "stdout",
     "output_type": "stream",
     "text": [
      "Price to set to get desired profit: [150. 240.]\n",
      "What the target monthly gap must be: [20. 20.]\n",
      "Target 3-month plan price: [35. 35.]\n"
     ]
    }
   ],
   "source": [
    "plans = [\"4gb\", \"10gb\", \"25gb\", \"unlimited\"]\n",
    "desired_earning = np.array([60, 60])\n",
    "plan_actual_monthly  = actual_monthly[:,plans.index(\"10gb\")] # this actual monthly is based on current pricing but\n",
    "                                                             # I'm guessing it's set so that you can have the same\n",
    "                                                             # starting 3-month price for both 6 and 12-month plans\n",
    "\n",
    "price_to_set = plan_actual_monthly * [6,12] + desired_earning\n",
    "print(\"Price to set to get desired profit:\",price_to_set)\n",
    "target_three_month_monthly_gap = desired_earning/3\n",
    "print(\"What the target monthly gap must be:\",target_three_month_monthly_gap)\n",
    "target_three_month_price = target_three_month_monthly_gap+plan_actual_monthly\n",
    "print(\"Target 3-month plan price:\",target_three_month_price)"
   ]
  },
  {
   "cell_type": "markdown",
   "id": "numerous-tissue",
   "metadata": {},
   "source": [
    "## We have recorved the original 3-month plan price\n",
    "Since both the 6- and 12-month share the same 3-month starting price, the profit and monthly price must be set so that the calculation lead to the same number, as shown above. This would explain the differences in the calculated actual monthly price and profits outside the 10GB plan. \n",
    "\n",
    "If we put on the hat of Mint CFO, we want a 3-month plan monthly price that is competitive against all current carriers and also maximizes the profit with reasonable expectation for cost of both the 6- and 12- month plans.\n",
    "\n",
    "## So this is after all an optimization problem. \n",
    "\n",
    "Let y be the target 3-month monthly price. x1 be monthly cost for 6-month plan, x2 for 12-month plan.\n",
    "The optimization problem is then\n",
    "\n",
    "$$max_{x_1, x_2, y} [(3y+3x_1)-6x_1] + [(3y+9x_2)-12x_2]$$\n",
    "s.t. $$y \\leq 35$$\n",
    "$$x_1 > 10$$\n",
    "$$x_2 > 10$$\n",
    "\n",
    "We want the two main terms to be relatively close together. The bounds for y and x1, x2 are educated guesses."
   ]
  },
  {
   "cell_type": "code",
   "execution_count": null,
   "id": "pending-burst",
   "metadata": {},
   "outputs": [],
   "source": []
  }
 ],
 "metadata": {
  "kernelspec": {
   "display_name": "Python 3",
   "language": "python",
   "name": "python3"
  },
  "language_info": {
   "codemirror_mode": {
    "name": "ipython",
    "version": 3
   },
   "file_extension": ".py",
   "mimetype": "text/x-python",
   "name": "python",
   "nbconvert_exporter": "python",
   "pygments_lexer": "ipython3",
   "version": "3.7.7"
  }
 },
 "nbformat": 4,
 "nbformat_minor": 5
}
